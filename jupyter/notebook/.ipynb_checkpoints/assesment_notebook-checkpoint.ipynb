{
 "cells": [
  {
   "cell_type": "markdown",
   "metadata": {},
   "source": [
    "# Emirates NBD"
   ]
  },
  {
   "cell_type": "markdown",
   "metadata": {},
   "source": [
    "## Technical Assessment_Senior Data Engineer"
   ]
  },
  {
   "cell_type": "code",
   "execution_count": 314,
   "metadata": {},
   "outputs": [],
   "source": [
    "import findspark\n",
    "findspark.init()"
   ]
  },
  {
   "cell_type": "code",
   "execution_count": 315,
   "metadata": {},
   "outputs": [],
   "source": [
    "from pyspark.sql import SparkSession\n",
    "#from pyspark.sql.functions import *\n",
    "#from pyspark.sql.types import StringType, LongType # Get the properties\n",
    "from pyspark.sql.functions import to_date, col # conversion of data types\n",
    "from pyspark.sql.functions import avg, min, max,mean # salary ditribution per job posting\n",
    "from pyspark.sql.functions import desc # for sorting descending\n",
    "from pyspark.sql.functions import when, lower, corr # correlation between the higher degree and the salary\n",
    "from pyspark.ml.feature import StringIndexer #correlation coefficient between different columns (string and integer) columns\n",
    "from pyspark.sql.functions import current_date, date_sub, year, date_format, current_timestamp # Used for calculating dataframe from the last 2 years, \n",
    "\n",
    "spark = SparkSession.builder. \\\n",
    "    appName(\"pyspark-1\"). \\\n",
    "    getOrCreate()"
   ]
  },
  {
   "cell_type": "markdown",
   "metadata": {},
   "source": [
    "### Read data"
   ]
  },
  {
   "cell_type": "code",
   "execution_count": 316,
   "metadata": {},
   "outputs": [],
   "source": [
    "df = spark.read.csv(\"/dataset/nyc-jobs.csv\", header=True)\n",
    "#df.printSchema()"
   ]
  },
  {
   "cell_type": "markdown",
   "metadata": {},
   "source": [
    "###  Change the datatype of some columns"
   ]
  },
  {
   "cell_type": "code",
   "execution_count": 317,
   "metadata": {},
   "outputs": [],
   "source": [
    "\n",
    "# convert Posting Date column to date datatype\n",
    "#df = df.withColumn(\"Posting Date\", to_date(col(\"Posting Date\"), \"yyyy/MM/dd\"))\n",
    "\n",
    "# convert Salary Range From column to integer datatype\n",
    "df = df.withColumn(\"Salary Range From\", df[\"Salary Range From\"].cast(\"integer\"))\n",
    "\n",
    "# convert Salary Range To column to integer datatype\n",
    "df = df.withColumn(\"Salary Range To\", df[\"Salary Range To\"].cast(\"integer\"))\n",
    "#df.printSchema()"
   ]
  },
  {
   "cell_type": "markdown",
   "metadata": {},
   "source": [
    "### Sample function"
   ]
  },
  {
   "cell_type": "code",
   "execution_count": null,
   "metadata": {},
   "outputs": [],
   "source": [
    "def get_salary_frequency(df: DataFrame) -> list:\n",
    "    row_list = df.select('Salary Frequency').distinct().collect()\n",
    "    return [row['Salary Frequency'] for row in row_list]"
   ]
  },
  {
   "cell_type": "markdown",
   "metadata": {},
   "source": [
    "### Example of test function"
   ]
  },
  {
   "cell_type": "code",
   "execution_count": null,
   "metadata": {},
   "outputs": [],
   "source": [
    "mock_data = [('A', 'Annual'), ('B', 'Daily')]\n",
    "expected_result = ['Annual', 'Daily']"
   ]
  },
  {
   "cell_type": "code",
   "execution_count": null,
   "metadata": {},
   "outputs": [],
   "source": [
    "def test_get_salary_frequency(mock_data: list, \n",
    "                              expected_result: list,\n",
    "                              schema: list = ['id', 'Salary Frequency']):  \n",
    "    mock_df = spark.createDataFrame(data = mock_data, schema = schema)\n",
    "    assert get_salary_frequency(mock_df) == expected_result"
   ]
  },
  {
   "cell_type": "code",
   "execution_count": null,
   "metadata": {},
   "outputs": [],
   "source": []
  },
  {
   "cell_type": "markdown",
   "metadata": {},
   "source": [
    "# Data Exploration"
   ]
  },
  {
   "cell_type": "markdown",
   "metadata": {},
   "source": [
    "### Provide a detailed analysis of source data: Column values (eg: Numerical vs character), categorical columns, etc."
   ]
  },
  {
   "cell_type": "code",
   "execution_count": 63,
   "metadata": {},
   "outputs": [
    {
     "name": "stdout",
     "output_type": "stream",
     "text": [
      "dtypes result: [('Job ID', 'string'), ('Agency', 'string'), ('Posting Type', 'string'), ('# Of Positions', 'string'), ('Business Title', 'string'), ('Civil Service Title', 'string'), ('Title Code No', 'string'), ('Level', 'string'), ('Job Category', 'string'), ('Full-Time/Part-Time indicator', 'string'), ('Salary Range From', 'int'), ('Salary Range To', 'int'), ('Salary Frequency', 'string'), ('Work Location', 'string'), ('Division/Work Unit', 'string'), ('Job Description', 'string'), ('Minimum Qual Requirements', 'string'), ('Preferred Skills', 'string'), ('Additional Information', 'string'), ('To Apply', 'string'), ('Hours/Shift', 'string'), ('Work Location 1', 'string'), ('Recruitment Contact', 'string'), ('Residency Requirement', 'string'), ('Posting Date', 'date'), ('Post Until', 'string'), ('Posting Updated', 'string'), ('Process Date', 'string')]\n"
     ]
    }
   ],
   "source": [
    "# Getting list of columns and printing\n",
    "# result\n",
    "dt = df.dtypes\n",
    "print(\"dtypes result:\", dt)"
   ]
  },
  {
   "cell_type": "code",
   "execution_count": 64,
   "metadata": {},
   "outputs": [
    {
     "name": "stdout",
     "output_type": "stream",
     "text": [
      "DataFrame structure: DataFrame[Job ID: string, Agency: string, Posting Type: string, # Of Positions: string, Business Title: string, Civil Service Title: string, Title Code No: string, Level: string, Job Category: string, Full-Time/Part-Time indicator: string, Salary Range From: int, Salary Range To: int, Salary Frequency: string, Work Location: string, Division/Work Unit: string, Job Description: string, Minimum Qual Requirements: string, Preferred Skills: string, Additional Information: string, To Apply: string, Hours/Shift: string, Work Location 1: string, Recruitment Contact: string, Residency Requirement: string, Posting Date: date, Post Until: string, Posting Updated: string, Process Date: string]\n"
     ]
    }
   ],
   "source": [
    "# Printing DataFrame structure\n",
    "print(\"DataFrame structure:\", df)"
   ]
  },
  {
   "cell_type": "markdown",
   "metadata": {},
   "source": [
    "### Whats the number of jobs posting per category (Top 10)?"
   ]
  },
  {
   "cell_type": "code",
   "execution_count": 74,
   "metadata": {},
   "outputs": [
    {
     "data": {
      "text/html": [
       "<div>\n",
       "<style scoped>\n",
       "    .dataframe tbody tr th:only-of-type {\n",
       "        vertical-align: middle;\n",
       "    }\n",
       "\n",
       "    .dataframe tbody tr th {\n",
       "        vertical-align: top;\n",
       "    }\n",
       "\n",
       "    .dataframe thead th {\n",
       "        text-align: right;\n",
       "    }\n",
       "</style>\n",
       "<table border=\"1\" class=\"dataframe\">\n",
       "  <thead>\n",
       "    <tr style=\"text-align: right;\">\n",
       "      <th></th>\n",
       "      <th>Job Category</th>\n",
       "      <th>count</th>\n",
       "    </tr>\n",
       "  </thead>\n",
       "  <tbody>\n",
       "    <tr>\n",
       "      <th>0</th>\n",
       "      <td>Engineering, Architecture, &amp; Planning</td>\n",
       "      <td>504</td>\n",
       "    </tr>\n",
       "    <tr>\n",
       "      <th>1</th>\n",
       "      <td>Technology, Data &amp; Innovation</td>\n",
       "      <td>313</td>\n",
       "    </tr>\n",
       "    <tr>\n",
       "      <th>2</th>\n",
       "      <td>Legal Affairs</td>\n",
       "      <td>226</td>\n",
       "    </tr>\n",
       "    <tr>\n",
       "      <th>3</th>\n",
       "      <td>Public Safety, Inspections, &amp; Enforcement</td>\n",
       "      <td>182</td>\n",
       "    </tr>\n",
       "    <tr>\n",
       "      <th>4</th>\n",
       "      <td>Building Operations &amp; Maintenance</td>\n",
       "      <td>181</td>\n",
       "    </tr>\n",
       "    <tr>\n",
       "      <th>5</th>\n",
       "      <td>Finance, Accounting, &amp; Procurement</td>\n",
       "      <td>169</td>\n",
       "    </tr>\n",
       "    <tr>\n",
       "      <th>6</th>\n",
       "      <td>Administration &amp; Human Resources</td>\n",
       "      <td>134</td>\n",
       "    </tr>\n",
       "    <tr>\n",
       "      <th>7</th>\n",
       "      <td>Constituent Services &amp; Community Programs</td>\n",
       "      <td>129</td>\n",
       "    </tr>\n",
       "    <tr>\n",
       "      <th>8</th>\n",
       "      <td>Health</td>\n",
       "      <td>125</td>\n",
       "    </tr>\n",
       "    <tr>\n",
       "      <th>9</th>\n",
       "      <td>Policy, Research &amp; Analysis</td>\n",
       "      <td>124</td>\n",
       "    </tr>\n",
       "  </tbody>\n",
       "</table>\n",
       "</div>"
      ],
      "text/plain": [
       "                                Job Category  count\n",
       "0      Engineering, Architecture, & Planning    504\n",
       "1              Technology, Data & Innovation    313\n",
       "2                              Legal Affairs    226\n",
       "3  Public Safety, Inspections, & Enforcement    182\n",
       "4          Building Operations & Maintenance    181\n",
       "5         Finance, Accounting, & Procurement    169\n",
       "6           Administration & Human Resources    134\n",
       "7  Constituent Services & Community Programs    129\n",
       "8                                     Health    125\n",
       "9                Policy, Research & Analysis    124"
      ]
     },
     "execution_count": 74,
     "metadata": {},
     "output_type": "execute_result"
    }
   ],
   "source": [
    "# Group the data by category and count the number of job postings\n",
    "category_counts = df.groupBy(\"Job Category\").count()\n",
    "\n",
    "# Sort the category counts in descending order and show the top 10 categories\n",
    "##top_categories = category_counts.orderBy(desc(\"count\")).limit(10)\n",
    "top_categories = category_counts.sort(\"count\", ascending=False).limit(10)\n",
    "\n",
    "# Display the top categories and their counts\n",
    "top_categories.toPandas()\n",
    "\n",
    "# top_categories.plot.bar(x='count') "
   ]
  },
  {
   "cell_type": "markdown",
   "metadata": {},
   "source": [
    "### Whats the salary distribution per job category?\n"
   ]
  },
  {
   "cell_type": "code",
   "execution_count": 75,
   "metadata": {},
   "outputs": [
    {
     "name": "stdout",
     "output_type": "stream",
     "text": [
      "+--------------------------------------------------------------------------------+----------------------+--------------------+\n",
      "|                                                                    Job Category|avg(Salary Range From)|avg(Salary Range To)|\n",
      "+--------------------------------------------------------------------------------+----------------------+--------------------+\n",
      "|                                                                            null|               51572.5|            113749.5|\n",
      "|                                                Administration & Human Resources|     43638.10447761194|   63873.44029850746|\n",
      "|              Administration & Human Resources Building Operations & Maintenance|     50770.28571428572|   72091.14285714286|\n",
      "|Administration & Human Resources Building Operations & Maintenance Policy, Re...|               54100.0|             83981.0|\n",
      "|     Administration & Human Resources Communications & Intergovernmental Affairs|               37251.0|             58478.0|\n",
      "|Administration & Human Resources Communications & Intergovernmental Affairs E...|               90000.0|            100000.0|\n",
      "|Administration & Human Resources Communications & Intergovernmental Affairs H...|               65374.0|             98908.0|\n",
      "|Administration & Human Resources Communications & Intergovernmental Affairs L...|               79620.0|             91563.0|\n",
      "|Administration & Human Resources Communications & Intergovernmental Affairs P...|               31573.0|             36309.0|\n",
      "|      Administration & Human Resources Constituent Services & Community Programs|               90000.0|             92000.0|\n",
      "|Administration & Human Resources Constituent Services & Community Programs Co...|                  15.0|                19.0|\n",
      "|Administration & Human Resources Constituent Services & Community Programs Co...|               37217.0|             61936.0|\n",
      "|Administration & Human Resources Constituent Services & Community Programs Fi...|               58152.0|             66875.0|\n",
      "|Administration & Human Resources Constituent Services & Community Programs Le...|               80000.0|            100000.0|\n",
      "|Administration & Human Resources Constituent Services & Community Programs Po...|               33875.0|             54879.0|\n",
      "|Administration & Human Resources Constituent Services & Community Programs Po...|               70005.0|   76671.66666666667|\n",
      "|Administration & Human Resources Constituent Services & Community Programs So...|                  15.0|                15.0|\n",
      "|Administration & Human Resources Engineering, Architecture, & Planning Policy...|               79154.5|             88902.5|\n",
      "|             Administration & Human Resources Finance, Accounting, & Procurement|     75108.22222222222|  107240.22222222222|\n",
      "|Administration & Human Resources Finance, Accounting, & Procurement Building ...|              218587.0|            218587.0|\n",
      "+--------------------------------------------------------------------------------+----------------------+--------------------+\n",
      "only showing top 20 rows\n",
      "\n"
     ]
    }
   ],
   "source": [
    "# Group by job category and calculate the average salary for each category\n",
    "salary_distribution = df.groupBy(\"Job Category\").avg(\"Salary Range From\", \"Salary Range To\")\n",
    "\n",
    "# Sort by job category\n",
    "salary_distribution = salary_distribution.orderBy(\"Job Category\")\n",
    "\n",
    "# Display the results\n",
    "salary_distribution.show(truncate=80)\n"
   ]
  },
  {
   "cell_type": "code",
   "execution_count": null,
   "metadata": {},
   "outputs": [],
   "source": []
  },
  {
   "cell_type": "markdown",
   "metadata": {},
   "source": [
    "### Is there any correlation between the higher degree and the salary?"
   ]
  },
  {
   "cell_type": "code",
   "execution_count": 206,
   "metadata": {},
   "outputs": [
    {
     "name": "stdout",
     "output_type": "stream",
     "text": [
      "+---------------+------------------+\n",
      "|Education Level|            Salary|\n",
      "+---------------+------------------+\n",
      "|    High School|49691.780303030304|\n",
      "|      Associate|           61377.1|\n",
      "|          Other|  84629.0890510949|\n",
      "|       Bachelor| 86606.73129525341|\n",
      "|         Master| 98625.73066298342|\n",
      "+---------------+------------------+\n",
      "\n",
      "Correlation coefficient:  -0.8456587540332213\n"
     ]
    }
   ],
   "source": [
    "# Select the relevant columns\n",
    "#df = df.select(\"Salary Range To\", \"Minimum Qual Requirements\")\n",
    "\n",
    "# Convert \"Salary Range To\" column to integer data type\n",
    "#df = df.withColumn(\"Salary Range To\", df[\"Salary Range To\"].cast(\"integer\"))\n",
    "\n",
    "# Group the data by category and count the number of Education Level\n",
    "#minimum_qual_requirements_counts = df.groupBy(\"Minimum Qual Requirements\").count()\n",
    "#minimum_qual_requirements_counts = minimum_qual_requirements_counts.sort(\"count\", ascending=False)\n",
    "#minimum_qual_requirements_counts.show(truncate=110)\n",
    "\n",
    "\n",
    "# Extract educational qualification from \"Minimum Qual Requirements\" column\n",
    "df = df.withColumn(\"Education Level\", when(lower(col(\"Minimum Qual Requirements\")).contains(\"master\"), \"Master\")\n",
    "                      .when(lower(col(\"Minimum Qual Requirements\")).contains(\"baccalaureate\"), \"Bachelor\")\n",
    "                      .when(lower(col(\"Minimum Qual Requirements\")).contains(\"associate\"), \"Associate\")\n",
    "                      .when(lower(col(\"Minimum Qual Requirements\")).contains(\"high school\"), \"High School\")\n",
    "                     .otherwise(\"Other\"))\n",
    "\n",
    "# Group the data by category and count the number of Education Level\n",
    "#education_level_counts = df.groupBy(\"Education Level\").count()\n",
    "\n",
    "#education_level_counts.show(truncate=80)\n",
    "\n",
    "# Calculate the mean salary for each educational qualification level\n",
    "salary_by_education = df.groupBy(\"Education Level\").mean(\"Salary Range To\")\n",
    "\n",
    "#Sort by densending order\n",
    "salary_by_education = salary_by_education.sort(\"avg(Salary Range To)\", ascending=True).withColumnRenamed(\"avg(Salary Range To)\", \"Salary\")\n",
    "salary_by_education.show()\n",
    "\n",
    "\n",
    "# Calculate the correlation coefficient between salary and educational qualification\n",
    "#correlation = df.stat.corr(\"avg(Salary Range To)\", \"Education Level\")\n",
    "\n",
    "# Calculate the correlation coefficient between Salary Range To and Minimum Qual Requirements\n",
    "#correlation_coefficient = df.select(corr(\"Salary Range To\", \"Education Level\")).collect()[0][0]\n",
    "\n",
    "#print(f\"The correlation coefficient between Salary Range To and Minimum Qual Requirements is: {correlation_coefficient}\")\n",
    "\n",
    "salary_by_education = salary_by_education.withColumn(\"Salary\", salary_by_education[\"Salary\"].cast(\"integer\"))\n",
    "\n",
    "#salary_by_education.printSchema()\n",
    "\n",
    "#corr_val = salary_by_education.corr(\"Education Level\", \"Salary\")\n",
    "\n",
    "#print(\"Correlation between columns Education Level and Salary:\", corr_val)\n",
    "\n",
    "# Convert string column to numerical column using StringIndexer\n",
    "indexer = StringIndexer(inputCol=\"Education Level\", outputCol=\"Education_Level_Index\")\n",
    "indexed = indexer.fit(salary_by_education).transform(salary_by_education)\n",
    "\n",
    "# Calculate correlation coefficient between columns\n",
    "corr = indexed.select(\n",
    "    [col(\"Salary\"), col(\"Education_Level_Index\")]\n",
    ").na.drop().corr(\"Salary\", \"Education_Level_Index\")\n",
    "\n",
    "print(\"Correlation coefficient: \", corr)\n",
    "\n",
    "\n",
    "# convert the string column to a categorical variable\n",
    "# indexer1 = StringIndexer(inputCol=\"Education Level\", outputCol=\"Education_Level_Index\")\n",
    "# df_indexed = indexer1.fit(salary_by_education).transform(salary_by_education)\n",
    "\n",
    "# calculate the correlation between the two columns\n",
    "# corr = Correlation.corr(df_indexed, \"Salary\", \"spearman\").head()\n",
    "# print(\"Correlation between Salary and Education_Level_Index: \", corr[0][1])"
   ]
  },
  {
   "cell_type": "code",
   "execution_count": null,
   "metadata": {},
   "outputs": [],
   "source": []
  },
  {
   "cell_type": "markdown",
   "metadata": {},
   "source": [
    "### Whats the job posting having the highest salary per agency?\n"
   ]
  },
  {
   "cell_type": "code",
   "execution_count": 266,
   "metadata": {},
   "outputs": [
    {
     "name": "stdout",
     "output_type": "stream",
     "text": [
      "+------------------------------+--------------+\n",
      "|                        Agency|Highest Salary|\n",
      "+------------------------------+--------------+\n",
      "|DEPT OF ENVIRONMENT PROTECTION|        218587|\n",
      "|             POLICE DEPARTMENT|        200000|\n",
      "|DISTRICT ATTORNEY KINGS COUNTY|        175000|\n",
      "|         NYC HOUSING AUTHORITY|        175000|\n",
      "|                LAW DEPARTMENT|        164104|\n",
      "|   DEPARTMENT OF INVESTIGATION|        160000|\n",
      "|     OFFICE OF THE COMPTROLLER|        160000|\n",
      "| DEPT OF HEALTH/MENTAL HYGIENE|        157725|\n",
      "|      DEPARTMENT FOR THE AGING|        150371|\n",
      "|HOUSING PRESERVATION & DVLPMNT|        130000|\n",
      "|      DEPARTMENT OF CORRECTION|        130000|\n",
      "|  NYC EMPLOYEES RETIREMENT SYS|        130000|\n",
      "|    DEPT OF PARKS & RECREATION|        128000|\n",
      "|         DEPARTMENT OF FINANCE|        120000|\n",
      "|    FINANCIAL INFO SVCS AGENCY|        120000|\n",
      "|   TAXI & LIMOUSINE COMMISSION|        120000|\n",
      "| OFFICE OF MANAGEMENT & BUDGET|        117810|\n",
      "|               FIRE DEPARTMENT|        116000|\n",
      "|   DEPARTMENT OF CITY PLANNING|        115000|\n",
      "|   DEPT OF CITYWIDE ADMIN SVCS|        110000|\n",
      "+------------------------------+--------------+\n",
      "only showing top 20 rows\n",
      "\n"
     ]
    }
   ],
   "source": [
    "# group the DataFrame by agency and find the highest salary for each agency\n",
    "highest_salary = df.groupBy(\"Agency\").agg(max(\"Salary Range From\").alias(\"Highest Salary\"))\n",
    "#max_salary_per_agency = df.groupBy(\"Agency\").max(\"Salary Range From\")\n",
    "#highest_salary_per_agency = df.groupBy(\"Agency\").agg({\"Salary Range From\": \"max\"})\n",
    "\n",
    "# Sort the data by the highest salary in descending order\n",
    "highest_salary_per_agency = highest_salary.sort(desc(\"Highest Salary\"))\n",
    "\n",
    "# display the results\n",
    "highest_salary_per_agency.show(truncate=70)\n",
    "\n"
   ]
  },
  {
   "cell_type": "markdown",
   "metadata": {},
   "source": [
    "### Whats the job positings average salary per agency for the last 2 years?"
   ]
  },
  {
   "cell_type": "code",
   "execution_count": 311,
   "metadata": {},
   "outputs": [
    {
     "name": "stdout",
     "output_type": "stream",
     "text": [
      "+------+------+------------+--------------+--------------+-------------------+-------------+-----+------------+-----------------------------+-----------------+---------------+----------------+-------------+------------------+---------------+-------------------------+----------------+----------------------+--------+-----------+---------------+-------------------+---------------------+------------+----------+---------------+------------+\n",
      "|Job ID|Agency|Posting Type|# Of Positions|Business Title|Civil Service Title|Title Code No|Level|Job Category|Full-Time/Part-Time indicator|Salary Range From|Salary Range To|Salary Frequency|Work Location|Division/Work Unit|Job Description|Minimum Qual Requirements|Preferred Skills|Additional Information|To Apply|Hours/Shift|Work Location 1|Recruitment Contact|Residency Requirement|Posting Date|Post Until|Posting Updated|Process Date|\n",
      "+------+------+------------+--------------+--------------+-------------------+-------------+-----+------------+-----------------------------+-----------------+---------------+----------------+-------------+------------------+---------------+-------------------------+----------------+----------------------+--------+-----------+---------------+-------------------+---------------------+------------+----------+---------------+------------+\n",
      "+------+------+------------+--------------+--------------+-------------------+-------------+-----+------------+-----------------------------+-----------------+---------------+----------------+-------------+------------------+---------------+-------------------------+----------------+----------------------+--------+-----------+---------------+-------------------+---------------------+------------+----------+---------------+------------+\n",
      "\n",
      "+------+--------------+\n",
      "|Agency|Highest Salary|\n",
      "+------+--------------+\n",
      "+------+--------------+\n",
      "\n"
     ]
    }
   ],
   "source": [
    "\n",
    "# Filter the dataframe to only include records from the last 2 years\n",
    "last_2years = df.filter(year(\"Posting Date\") >=  year(current_date()) - 2)\n",
    "\n",
    "last_2years.show()\n",
    "\n",
    "# Aggregate data by agency and job position and calculate the average salary\n",
    "highest_salary = last_2years.groupBy(\"Agency\").agg(max(\"Salary Range From\").alias(\"Highest Salary\"))\n",
    "\n",
    "# Display the results\n",
    "highest_salary.show()\n",
    "\n",
    "# average_salary_agency_last_two_years.show()\n",
    "\n",
    "# There's no record returned becuase the latest date is 2019 while the current year is 2023"
   ]
  },
  {
   "cell_type": "markdown",
   "metadata": {},
   "source": [
    "### What are the highest paid skills in the US market?\n"
   ]
  },
  {
   "cell_type": "code",
   "execution_count": 214,
   "metadata": {},
   "outputs": [
    {
     "name": "stdout",
     "output_type": "stream",
     "text": [
      "+--------------------+----------------------+--------------------+------------------+\n",
      "|        Job Category|avg(Salary Range From)|avg(Salary Range To)|    Average Salary|\n",
      "+--------------------+----------------------+--------------------+------------------+\n",
      "|Administration & ...|              218587.0|            218587.0|          218587.0|\n",
      "|Engineering, Arch...|              198518.0|            198518.0|          198518.0|\n",
      "|Engineering, Arch...|              192292.5|            199792.5|          196042.5|\n",
      "|Health Policy, Re...|              113504.0|            143885.0|          128694.5|\n",
      "|Engineering, Arch...|               69940.0|            186555.0|          128247.5|\n",
      "|Engineering, Arch...|               69940.0|            186555.0|          128247.5|\n",
      "|Communications & ...|              115000.0|            135000.0|          125000.0|\n",
      "|Administration & ...|               78574.0|            158000.0|          118287.0|\n",
      "|Constituent Servi...|    106666.66666666667|            127134.0|116900.33333333334|\n",
      "|Constituent Servi...|               56990.0|            150371.0|          103680.5|\n",
      "+--------------------+----------------------+--------------------+------------------+\n",
      "only showing top 10 rows\n",
      "\n"
     ]
    }
   ],
   "source": [
    "# Extracting relevant columns and filtering for only jobs in the US\n",
    "us_jobs_df = df.select(\"Job Category\", \"Salary Range From\", \"Salary Range To\")#.filter(df.Country == \"US\")\n",
    "\n",
    "# Calculating the average salary for each job category\n",
    "us_jobs_df = us_jobs_df.groupBy(\"Job Category\").avg(\"Salary Range From\", \"Salary Range To\")\n",
    "\n",
    "# Adding a new column with the average of the salary range from and salary range to\n",
    "us_jobs_df = us_jobs_df.withColumn(\"Average Salary\", (us_jobs_df[\"avg(Salary Range From)\"] + us_jobs_df[\"avg(Salary Range To)\"]) / 2)\n",
    "\n",
    "# Sorting by average salary in descending order and showing the top 10 highest paid skills\n",
    "highest_paid_skills = us_jobs_df.sort(desc(\"Average Salary\")).show(10)"
   ]
  },
  {
   "cell_type": "code",
   "execution_count": 344,
   "metadata": {},
   "outputs": [
    {
     "name": "stdout",
     "output_type": "stream",
     "text": [
      "+--------------------+----------------------+--------------------+\n",
      "|    Preferred Skills|avg(Salary Range From)|avg(Salary Range To)|\n",
      "+--------------------+----------------------+--------------------+\n",
      "|PREFERRED SKILLS ...|               35330.0|             40629.0|\n",
      "|â€¢ Knowledge of ...|               75000.0|            100000.0|\n",
      "|The preferred can...|               50078.0|             57590.0|\n",
      "|â€¢The Deputy Chi...|               73255.0|            123174.5|\n",
      "|Excellent interpe...|                  32.0|                36.0|\n",
      "|The employee must...|               43111.0|             63969.0|\n",
      "|â€¢\tAble to lift ...|               35330.0|             40629.0|\n",
      "|â€¢\tExperience in...|               58700.0|            100000.0|\n",
      "|â€¢\tKnowledge of ...|               35330.0|             40629.0|\n",
      "| or sufficient tr...|                  52.0|                52.0|\n",
      "|1.   Demonstrated...|               50000.0|             55000.0|\n",
      "|â€¢ Strong AutoCA...|               78210.0|            108657.0|\n",
      "|Candidate should ...|               58152.0|             74479.0|\n",
      "|Responsible, rele...|              110000.0|            120000.0|\n",
      "|â€¢\tNew York City...|               65731.0|             85000.0|\n",
      "|Demonstrated expe...|               65000.0|             75000.0|\n",
      "|â€¢\tManagerial tr...|               75338.0|            194395.0|\n",
      "| all candidates m...|               40358.0|             56367.5|\n",
      "|1.\tPossession of ...|               48371.0|             65585.0|\n",
      "| to qualify candi...|               67037.5|             97286.5|\n",
      "+--------------------+----------------------+--------------------+\n",
      "only showing top 20 rows\n",
      "\n"
     ]
    }
   ],
   "source": [
    "# group by \"Preferred Skills\" and calculate the average of \"Salary Range From\" and \"Salary Range To\"\n",
    "grouped_df = df.groupBy(\"Preferred Skills\").avg(\"Salary Range From\", \"Salary Range To\").alias(\"Average Salary\")\n",
    "\n",
    "# show the result\n",
    "grouped_df.show()\n",
    "\n",
    "#df.groupBy(\"Preferred Skills\").agg(avg(\"Salary Range From\", \"Salary Range To\").alias(\"Average Salary\"))\n",
    "\n",
    "\n",
    "#avg_salary_by_skill = df.groupBy(\"Preferred Skills\").agg(avg(\"Salary Range From\", \"Salary Range To\")).alias(\"Average Salary\")\\\n",
    "\n",
    "\n",
    "#df.groupBy(\"Preferred Skills\").agg(avg(\"Salary Range From\"), avg(\"Salary Range To\"))\\\n",
    "                        #.alias(\"Average Salary\")\\\n",
    "                        #.sort(\"Average Salary\", ascending=False)\n",
    "                        #.orderBy(desc(\"Average Salary\"))\n",
    "\n",
    "#avg_salary_by_skill = avg_salary_by_skill.sort(\"Average Salary\", ascending=False)\n",
    "\n",
    "#df.groupBy(\"Preferred Skills\") \\\n",
    "               #         .avg(\"Salary Range From\", \"Salary Range To\").alias(\"Average Salary\")\\\n",
    "                #        .orderBy(desc(\"Average Salary\"))\n",
    "\n",
    "\n",
    "# Display the top-paying skills\n",
    "#avg_salary_by_skill.show(truncate=90)"
   ]
  },
  {
   "cell_type": "code",
   "execution_count": null,
   "metadata": {},
   "outputs": [],
   "source": []
  },
  {
   "cell_type": "markdown",
   "metadata": {},
   "source": [
    "# Data Processing"
   ]
  },
  {
   "cell_type": "markdown",
   "metadata": {},
   "source": [
    "### Create functions to process your dataset (Cleaning, column pre-processing, data wrangling, transformation etc)"
   ]
  },
  {
   "cell_type": "code",
   "execution_count": null,
   "metadata": {},
   "outputs": [],
   "source": []
  },
  {
   "cell_type": "code",
   "execution_count": null,
   "metadata": {},
   "outputs": [],
   "source": []
  },
  {
   "cell_type": "markdown",
   "metadata": {},
   "source": [
    "### Data Cleaning"
   ]
  },
  {
   "cell_type": "code",
   "execution_count": null,
   "metadata": {},
   "outputs": [],
   "source": []
  },
  {
   "cell_type": "code",
   "execution_count": null,
   "metadata": {},
   "outputs": [],
   "source": []
  },
  {
   "cell_type": "markdown",
   "metadata": {},
   "source": [
    "### Column pre-processing"
   ]
  },
  {
   "cell_type": "code",
   "execution_count": null,
   "metadata": {},
   "outputs": [],
   "source": []
  },
  {
   "cell_type": "code",
   "execution_count": null,
   "metadata": {},
   "outputs": [],
   "source": []
  },
  {
   "cell_type": "markdown",
   "metadata": {},
   "source": [
    "### Data wrangling"
   ]
  },
  {
   "cell_type": "code",
   "execution_count": null,
   "metadata": {},
   "outputs": [],
   "source": []
  },
  {
   "cell_type": "code",
   "execution_count": null,
   "metadata": {},
   "outputs": [],
   "source": []
  },
  {
   "cell_type": "markdown",
   "metadata": {},
   "source": [
    "### Data Transformation"
   ]
  },
  {
   "cell_type": "code",
   "execution_count": null,
   "metadata": {},
   "outputs": [],
   "source": []
  },
  {
   "cell_type": "code",
   "execution_count": null,
   "metadata": {},
   "outputs": [],
   "source": []
  }
 ],
 "metadata": {
  "kernelspec": {
   "display_name": "Python 3",
   "language": "python",
   "name": "python3"
  },
  "language_info": {
   "codemirror_mode": {
    "name": "ipython",
    "version": 3
   },
   "file_extension": ".py",
   "mimetype": "text/x-python",
   "name": "python",
   "nbconvert_exporter": "python",
   "pygments_lexer": "ipython3",
   "version": "3.7.3"
  }
 },
 "nbformat": 4,
 "nbformat_minor": 4
}
