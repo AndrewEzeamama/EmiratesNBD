{
 "cells": [
  {
   "cell_type": "markdown",
   "metadata": {},
   "source": [
    "# Emirates NBD"
   ]
  },
  {
   "cell_type": "markdown",
   "metadata": {},
   "source": [
    "## Technical Assessment_Senior Data Engineer"
   ]
  },
  {
   "cell_type": "code",
   "execution_count": 58,
   "metadata": {},
   "outputs": [],
   "source": [
    "import findspark\n",
    "findspark.init()"
   ]
  },
  {
   "cell_type": "code",
   "execution_count": 62,
   "metadata": {},
   "outputs": [],
   "source": [
    "from pyspark.sql import SparkSession\n",
    "\n",
    "from pyspark.sql.functions import to_date, col # conversion of data types\n",
    "from pyspark.sql.functions import avg, min, max, mean, stddev # salary distribution per job posting\n",
    "from pyspark.sql.functions import desc # for sorting descending\n",
    "#from pyspark.sql.functions import monotonically_increasing_id # Used for manifulating the Dataframe rows\n",
    "from pyspark.sql.functions import when, lower, corr # correlation between the higher degree and the salary\n",
    "from pyspark.sql.functions import trim # Use to remove any leading or trailing white space in a column\n",
    "from pyspark.ml.feature import StringIndexer #correlation coefficient between different columns (string and integer) columns\n",
    "from pyspark.sql.functions import current_date, date_sub, year, date_format, current_timestamp # Used for calculating dataframe from the last 2 years, \n",
    "from pyspark.sql.functions import concat, lit # Data transformation - \"Add Dollar Sign To Salary\"\n",
    "from pyspark.ml.feature import OneHotEncoder # Feature Engineering - Encoding Categorical Variables\n",
    "from pyspark.ml.feature import MinMaxScaler, VectorAssembler, ChiSqSelector, StandardScaler # Feature Engineering\n",
    "\n",
    "# Feature Engineering - Feature Removal\n",
    "from pyspark.ml import Pipeline\n",
    "\n",
    "# Import data visualization library for analysis results.\n",
    "import matplotlib.pyplot as plt\n",
    "\n",
    "\n",
    "from pyspark.sql.functions import isnan, when, count, col # Feature Removal - Identifying features with a high number of missing values\n",
    "\n",
    "spark = SparkSession.builder. \\\n",
    "    appName(\"pyspark-1\"). \\\n",
    "    getOrCreate()"
   ]
  },
  {
   "cell_type": "markdown",
   "metadata": {},
   "source": [
    "### Read data"
   ]
  },
  {
   "cell_type": "code",
   "execution_count": 63,
   "metadata": {},
   "outputs": [],
   "source": [
    "# Load the dataset\n",
    "df = spark.read.csv(\"/dataset/nyc-jobs.csv\", header=True, inferSchema=True)\n",
    "\n",
    "#df.printSchema()"
   ]
  },
  {
   "cell_type": "markdown",
   "metadata": {},
   "source": [
    "###  Change the datatype of some columns"
   ]
  },
  {
   "cell_type": "code",
   "execution_count": 18,
   "metadata": {},
   "outputs": [],
   "source": [
    "# convert Posting Date column to date datatype\n",
    "#df = df.withColumn(\"Posting Date\", to_date(col(\"Posting Date\"), \"yyyy/MM/dd\"))\n",
    "\n",
    "# convert Salary Range From column to integer datatype\n",
    "# df = df.withColumn(\"Salary Range From\", df[\"Salary Range From\"].cast(\"integer\"))\n",
    "\n",
    "# convert Salary Range To column to integer datatype\n",
    "# df = df.withColumn(\"Salary Range To\", df[\"Salary Range To\"].cast(\"integer\"))\n",
    "#df.printSchema()"
   ]
  },
  {
   "cell_type": "markdown",
   "metadata": {},
   "source": [
    "### Sample function"
   ]
  },
  {
   "cell_type": "code",
   "execution_count": null,
   "metadata": {},
   "outputs": [],
   "source": [
    "def get_salary_frequency(df: DataFrame) -> list:\n",
    "    row_list = df.select('Salary Frequency').distinct().collect()\n",
    "    return [row['Salary Frequency'] for row in row_list]"
   ]
  },
  {
   "cell_type": "markdown",
   "metadata": {},
   "source": [
    "### Example of test function"
   ]
  },
  {
   "cell_type": "code",
   "execution_count": null,
   "metadata": {},
   "outputs": [],
   "source": [
    "mock_data = [('A', 'Annual'), ('B', 'Daily')]\n",
    "expected_result = ['Annual', 'Daily']"
   ]
  },
  {
   "cell_type": "code",
   "execution_count": null,
   "metadata": {},
   "outputs": [],
   "source": [
    "def test_get_salary_frequency(mock_data: list, \n",
    "                              expected_result: list,\n",
    "                              schema: list = ['id', 'Salary Frequency']):  \n",
    "    mock_df = spark.createDataFrame(data = mock_data, schema = schema)\n",
    "    assert get_salary_frequency(mock_df) == expected_result"
   ]
  },
  {
   "cell_type": "code",
   "execution_count": null,
   "metadata": {},
   "outputs": [],
   "source": []
  },
  {
   "cell_type": "markdown",
   "metadata": {},
   "source": [
    "# Data Exploration"
   ]
  },
  {
   "cell_type": "markdown",
   "metadata": {},
   "source": [
    "### Provide a detailed analysis of source data: Column values (eg: Numerical vs character), categorical columns, etc."
   ]
  },
  {
   "cell_type": "code",
   "execution_count": 636,
   "metadata": {},
   "outputs": [
    {
     "name": "stdout",
     "output_type": "stream",
     "text": [
      "root\n",
      " |-- Job ID: integer (nullable = true)\n",
      " |-- Agency: string (nullable = true)\n",
      " |-- Posting Type: string (nullable = true)\n",
      " |-- # Of Positions: integer (nullable = true)\n",
      " |-- Business Title: string (nullable = true)\n",
      " |-- Civil Service Title: string (nullable = true)\n",
      " |-- Title Code No: string (nullable = true)\n",
      " |-- Level: string (nullable = true)\n",
      " |-- Job Category: string (nullable = true)\n",
      " |-- Full-Time/Part-Time indicator: string (nullable = true)\n",
      " |-- Salary Range From: double (nullable = true)\n",
      " |-- Salary Range To: double (nullable = true)\n",
      " |-- Salary Frequency: string (nullable = true)\n",
      " |-- Work Location: string (nullable = true)\n",
      " |-- Division/Work Unit: string (nullable = true)\n",
      " |-- Job Description: string (nullable = true)\n",
      " |-- Minimum Qual Requirements: string (nullable = true)\n",
      " |-- Preferred Skills: string (nullable = true)\n",
      " |-- Additional Information: string (nullable = true)\n",
      " |-- To Apply: string (nullable = true)\n",
      " |-- Hours/Shift: string (nullable = true)\n",
      " |-- Work Location 1: string (nullable = true)\n",
      " |-- Recruitment Contact: string (nullable = true)\n",
      " |-- Residency Requirement: string (nullable = true)\n",
      " |-- Posting Date: string (nullable = true)\n",
      " |-- Post Until: string (nullable = true)\n",
      " |-- Posting Updated: string (nullable = true)\n",
      " |-- Process Date: string (nullable = true)\n",
      " |-- Education Level: string (nullable = false)\n",
      " |-- Average Salary: double (nullable = true)\n",
      "\n"
     ]
    }
   ],
   "source": [
    "# Getting root of columns with data types\n",
    "\n",
    "df.printSchema()"
   ]
  },
  {
   "cell_type": "code",
   "execution_count": 475,
   "metadata": {},
   "outputs": [
    {
     "name": "stdout",
     "output_type": "stream",
     "text": [
      "dtypes result: [('Job ID', 'int'), ('Agency', 'string'), ('Posting Type', 'string'), ('# Of Positions', 'int'), ('Business Title', 'string'), ('Civil Service Title', 'string'), ('Title Code No', 'string'), ('Level', 'string'), ('Job Category', 'string'), ('Full-Time/Part-Time indicator', 'string'), ('Salary Range From', 'double'), ('Salary Range To', 'double'), ('Salary Frequency', 'string'), ('Work Location', 'string'), ('Division/Work Unit', 'string'), ('Job Description', 'string'), ('Minimum Qual Requirements', 'string'), ('Preferred Skills', 'string'), ('Additional Information', 'string'), ('To Apply', 'string'), ('Hours/Shift', 'string'), ('Work Location 1', 'string'), ('Recruitment Contact', 'string'), ('Residency Requirement', 'string'), ('Posting Date', 'string'), ('Post Until', 'string'), ('Posting Updated', 'string'), ('Process Date', 'string')]\n"
     ]
    }
   ],
   "source": [
    "# Getting list of columns and printing\n",
    "\n",
    "dt = df.dtypes\n",
    "print(\"dtypes result:\", dt)"
   ]
  },
  {
   "cell_type": "code",
   "execution_count": 474,
   "metadata": {},
   "outputs": [
    {
     "name": "stdout",
     "output_type": "stream",
     "text": [
      "dtypes result: [('Job ID', 'int'), ('Agency', 'string'), ('Posting Type', 'string'), ('# Of Positions', 'int'), ('Business Title', 'string'), ('Civil Service Title', 'string'), ('Title Code No', 'string'), ('Level', 'string'), ('Job Category', 'string'), ('Full-Time/Part-Time indicator', 'string'), ('Salary Range From', 'double'), ('Salary Range To', 'double'), ('Salary Frequency', 'string'), ('Work Location', 'string'), ('Division/Work Unit', 'string'), ('Job Description', 'string'), ('Minimum Qual Requirements', 'string'), ('Preferred Skills', 'string'), ('Additional Information', 'string'), ('To Apply', 'string'), ('Hours/Shift', 'string'), ('Work Location 1', 'string'), ('Recruitment Contact', 'string'), ('Residency Requirement', 'string'), ('Posting Date', 'string'), ('Post Until', 'string'), ('Posting Updated', 'string'), ('Process Date', 'string')]\n",
      "DataFrame structure: DataFrame[Job ID: int, Agency: string, Posting Type: string, # Of Positions: int, Business Title: string, Civil Service Title: string, Title Code No: string, Level: string, Job Category: string, Full-Time/Part-Time indicator: string, Salary Range From: double, Salary Range To: double, Salary Frequency: string, Work Location: string, Division/Work Unit: string, Job Description: string, Minimum Qual Requirements: string, Preferred Skills: string, Additional Information: string, To Apply: string, Hours/Shift: string, Work Location 1: string, Recruitment Contact: string, Residency Requirement: string, Posting Date: string, Post Until: string, Posting Updated: string, Process Date: string]\n"
     ]
    }
   ],
   "source": [
    "# Printing DataFrame structure\n",
    "print(\"DataFrame structure:\", df)"
   ]
  },
  {
   "cell_type": "markdown",
   "metadata": {},
   "source": [
    "### Whats the number of jobs posting per category (Top 10)?"
   ]
  },
  {
   "cell_type": "code",
   "execution_count": 5,
   "metadata": {},
   "outputs": [
    {
     "name": "stdout",
     "output_type": "stream",
     "text": [
      "+--------------------+-----+\n",
      "|        Job Category|count|\n",
      "+--------------------+-----+\n",
      "|Engineering, Arch...|  504|\n",
      "|Technology, Data ...|  313|\n",
      "|       Legal Affairs|  226|\n",
      "|Public Safety, In...|  182|\n",
      "|Building Operatio...|  181|\n",
      "|Finance, Accounti...|  169|\n",
      "|Administration & ...|  134|\n",
      "|Constituent Servi...|  129|\n",
      "|              Health|  125|\n",
      "|Policy, Research ...|  124|\n",
      "+--------------------+-----+\n",
      "\n"
     ]
    }
   ],
   "source": [
    "# Group the data by category and count the number of job postings\n",
    "category_counts = df.groupBy(\"Job Category\").count().alias(\"count\")\n",
    "\n",
    "# Sort the category counts in descending order and show the top 10 categories\n",
    "##top_categories = category_counts.orderBy(desc(\"count\")).limit(10)\n",
    "top_categories = category_counts.sort(\"count\", ascending=False).limit(10)\n",
    "\n",
    "# Display the top categories and their counts\n",
    "top_categories.show()\n"
   ]
  },
  {
   "cell_type": "code",
   "execution_count": 6,
   "metadata": {},
   "outputs": [
    {
     "data": {
      "image/png": "[encoded data removed]",
      "text/plain": [
       "<Figure size 864x504 with 1 Axes>"
      ]
     },
     "metadata": {
      "needs_background": "light"
     },
     "output_type": "display_data"
    }
   ],
   "source": [
    "\n",
    "# Convert the PySpark DataFrame to a Pandas DataFrame in order to plot the graph\n",
    "plot_top_categories = top_categories.toPandas()\n",
    "\n",
    "# plot the number of job postings per category using Matplotlib \n",
    "plot_top_categories = top_categories.toPandas() \\\n",
    "        .plot(kind=\"barh\", title =\"(Top 10) Jobs posting per Category\" , x=\"Job Category\", y=\"count\", figsize=(12, 7))"
   ]
  },
  {
   "cell_type": "markdown",
   "metadata": {},
   "source": [
    "### Whats the salary distribution per job category?\n"
   ]
  },
  {
   "cell_type": "code",
   "execution_count": 602,
   "metadata": {},
   "outputs": [
    {
     "name": "stdout",
     "output_type": "stream",
     "text": [
      "+----------------------------------------------------------------------+-----------------+----------+----------+\n",
      "|                                                          Job Category|   Average Salary|Max Salary|Min Salary|\n",
      "+----------------------------------------------------------------------+-----------------+----------+----------+\n",
      "|                                      Administration & Human Resources|          87718.5|  122966.5|   60761.0|\n",
      "|Administration & Human Resources Constituent Services & Community P...|         100000.0|  100000.0|  100000.0|\n",
      "|Administration & Human Resources Constituent Services & Community P...|         110000.0|  110000.0|  110000.0|\n",
      "|Administration & Human Resources Engineering, Architecture, & Plann...|          68057.0|   68057.0|   68057.0|\n",
      "|Administration & Human Resources Public Safety, Inspections, & Enfo...|         165000.0|  165000.0|  165000.0|\n",
      "|                                     Building Operations & Maintenance|56675.41176470588|  151795.0|      58.0|\n",
      "|       Clerical & Administrative Support Community & Business Services|          62686.5|   62686.5|   62686.5|\n",
      "|                               Clerical & Administrative Support Legal|          50333.0|   50333.0|   50333.0|\n",
      "|                            Communications & Intergovernmental Affairs|          79585.0|  120000.0|   39170.0|\n",
      "|Communications & Intergovernmental Affairs Policy, Research & Analysis|75508.66666666667|   78850.0|   70511.0|\n",
      "|                                         Community & Business Services|          63373.0|   67500.0|   59246.0|\n",
      "|                             Constituent Services & Community Programs|          68895.0|   68895.0|   68895.0|\n",
      "| Constituent Services & Community Programs Policy, Research & Analysis|          70995.0|   70995.0|   70995.0|\n",
      "|                                 Engineering, Architecture, & Planning|74223.41860465116|  134866.5|      45.0|\n",
      "|Engineering, Architecture, & Planning Building Operations & Mainten...|          97717.5|   97717.5|   97717.5|\n",
      "|Engineering, Architecture, & Planning Finance, Accounting, & Procur...|         122966.5|  122966.5|  122966.5|\n",
      "|     Engineering, Architecture, & Planning Policy, Research & Analysis|85808.88888888889|  134866.5|   55075.0|\n",
      "|Engineering, Architecture, & Planning Public Safety, Inspections, &...|         83736.75|  115732.0|   51483.0|\n",
      "|                                    Finance, Accounting, & Procurement|         73314.55|   84267.5|   54746.0|\n",
      "|                      Finance, Accounting, & Procurement Legal Affairs|          55165.5|   55165.5|   55165.5|\n",
      "+----------------------------------------------------------------------+-----------------+----------+----------+\n",
      "only showing top 20 rows\n",
      "\n"
     ]
    }
   ],
   "source": [
    "# Remove the null values\n",
    "salary_distribution = df.dropna()\n",
    "\n",
    "# Compute the average salary from Salary Range From\" and \"Salary Range To\" columns\n",
    "salary_distribution = salary_distribution.withColumn(\"Average Salary\", (col(\"Salary Range From\") + col(\"Salary Range To\")) / 2)\n",
    "\n",
    "# Group by job category and calculate the  average, maximum, and minimum salaries for each category\n",
    "salary_distribution = salary_distribution.groupBy(\"Job Category\").agg(avg(\"Average Salary\"), max(\"Average Salary\"), min(\"Average Salary\"))\n",
    "#.sum(\"Average Salary\").withColumnRenamed(\"Average Salary\", \"Salary\")#.alias(\"Average Salary\")\n",
    "\n",
    "# Sort by job category\n",
    "salary_distribution = salary_distribution.orderBy(\"Job Category\")\n",
    "\n",
    "salary_distribution = salary_distribution.withColumnRenamed(\"avg(Average Salary)\", \"Average Salary\")\n",
    "salary_distribution = salary_distribution.withColumnRenamed(\"max(Average Salary)\", \"Max Salary\")\n",
    "salary_distribution = salary_distribution.withColumnRenamed(\"min(Average Salary)\", \"Min Salary\")\n",
    "\n",
    "# Display the results\n",
    "salary_distribution.show(truncate=70)\n"
   ]
  },
  {
   "cell_type": "code",
   "execution_count": 604,
   "metadata": {},
   "outputs": [
    {
     "data": {
      "image/png": "[encoded data removed]",
      "text/plain": [
       "<Figure size 1080x720 with 1 Axes>"
      ]
     },
     "metadata": {
      "needs_background": "light"
     },
     "output_type": "display_data"
    }
   ],
   "source": [
    "# Convert the PySpark DataFrame to a Pandas DataFrame in order to plot the graph\n",
    "#salary_distribution = salary_distribution.toPandas()\n",
    "\n",
    "# plot the number of job postings per category using Matplotlib \n",
    "plot_top_categories = salary_distribution.toPandas() \\\n",
    ".plot(kind=\"barh\", stacked=True, title =\"Salary Distribution per Job Category\" , x=\"Job Category\", figsize=(15, 10))"
   ]
  },
  {
   "cell_type": "code",
   "execution_count": null,
   "metadata": {},
   "outputs": [],
   "source": []
  },
  {
   "cell_type": "markdown",
   "metadata": {},
   "source": [
    "### Is there any correlation between the higher degree and the salary?"
   ]
  },
  {
   "cell_type": "code",
   "execution_count": 747,
   "metadata": {},
   "outputs": [
    {
     "name": "stdout",
     "output_type": "stream",
     "text": [
      "+---------------+------+------------+\n",
      "|Education Level|Salary|HigherDegree|\n",
      "+---------------+------+------------+\n",
      "|            PhD| 84900|           5|\n",
      "|         Master| 84372|           4|\n",
      "|       Bachelor| 74392|           3|\n",
      "|      Associate| 50351|           2|\n",
      "|  Undergraduate| 48657|           1|\n",
      "|    High School| 41708|           0|\n",
      "+---------------+------+------------+\n",
      "\n",
      "Correlation coefficient:  -0.8581418705400095\n",
      "Correlation coefficient:  5\n"
     ]
    }
   ],
   "source": [
    "# Select the relevant columns\n",
    "#minimum_qual_requirements_counts = df.select(\"Salary Range To\", \"Minimum Qual Requirements\")\n",
    "\n",
    " \n",
    "# Extract educational qualification from \"Minimum Qual Requirements\" column\n",
    "df = df.withColumn(\"Education Level\", when(lower(col(\"Minimum Qual Requirements\")).contains(\"doctorate\"), \"PhD\")\n",
    "                      .when(lower(col(\"Minimum Qual Requirements\")).contains(\"master\"), \"Master\")\n",
    "                      .when(lower(col(\"Minimum Qual Requirements\")).contains(\"bachelor\"), \"Bachelor\")\n",
    "                      .when(lower(col(\"Minimum Qual Requirements\")).contains(\"baccalaureate\"), \"Bachelor\")\n",
    "                      .when(lower(col(\"Minimum Qual Requirements\")).contains(\"undergraduate\"), \"Undergraduate\")\n",
    "                      .when(lower(col(\"Minimum Qual Requirements\")).contains(\"associate\"), \"Associate\")\n",
    "                      .when(lower(col(\"Minimum Qual Requirements\")).contains(\"high school\"), \"High School\")\n",
    "                     .otherwise(\"Other\"))\n",
    "\n",
    "\n",
    "\n",
    "# Compute the average salary from Salary Range From\" and \"Salary Range To\" columns\n",
    "df = df.withColumn(\"Average Salary\", (col(\"Salary Range From\") + col(\"Salary Range To\")) / 2)\n",
    "\n",
    "# Calculate the mean salary for each educational qualification level\n",
    "salary_by_education = df.groupBy(\"Education Level\").mean(\"Average Salary\")\n",
    "\n",
    "\n",
    "# Filter out the row where the \"Education Level\" is 'Other\n",
    "salary_by_education = salary_by_education.filter(col(\"Education Level\") != 'Other')\n",
    "\n",
    "\n",
    "#Sort by densending order\n",
    "salary_by_education = salary_by_education.sort(\"avg(Average Salary)\", ascending=False).withColumnRenamed(\"avg(Average Salary)\", \"Salary\")\n",
    "\n",
    "\n",
    "salary_by_education = salary_by_education.withColumn(\"Salary\", salary_by_education[\"Salary\"].cast(\"integer\"))\n",
    "\n",
    "#salary_by_education.printSchema()\n",
    "salary_by_education = salary_by_education.withColumn(\"HigherDegree\", when(col(\"Education Level\") == 'PhD',5)\n",
    "                      .when(col(\"Education Level\") == 'Master', 4 )\n",
    "                      .when(col(\"Education Level\") == 'Bachelor', 3)\n",
    "                      .when(col(\"Education Level\") == 'Associate', 2)\n",
    "                      .when(col(\"Education Level\") == 'Undergraduate', 1)\n",
    "                      .when(col(\"Education Level\") == 'High School', 0)\n",
    "                      .otherwise(\"Other\"))\n",
    "\n",
    "salary_by_education.show()\n",
    "\n",
    "#salary_by_education = salary_by_education.withColumn('HigherDegree', salary_by_education['HigherDegree'].cast('integer'))\n",
    "\n",
    "# Convert Education Level column to numerical column using StringIndexer\n",
    "indexer = StringIndexer(inputCol=\"Education Level\", outputCol=\"Education_Level_Index\")\n",
    "indexed = indexer.fit(salary_by_education).transform(salary_by_education)\n",
    "\n",
    "# Calculate correlation coefficient between columns\n",
    "corr = indexed.select([col(\"Education_Level_Index\"),col(\"Salary\")]).na.drop().corr(\"Salary\", \"Education_Level_Index\")\n",
    "corr1 = indexed.select([col(\"HigherDegree\"),col(\"Salary\")]).collect()[0][0]\n",
    "\n",
    "#correlation = salary_by_education.select(corr('HigherDegree', 'Salary')).collect()[0][0]\n",
    "\n",
    "print(\"Correlation coefficient: \", corr)\n",
    "print(\"Correlation coefficient: \", corr1)\n",
    "#print(\"Correlation coefficient: \", correlation)\n",
    "\n",
    "# Please Note:: The returned values will be between -1 and 1, with 1 indicating a perfect positive correlation, 0 indicating no correlation, and -1 indicating a perfect negative correlation."
   ]
  },
  {
   "cell_type": "code",
   "execution_count": 692,
   "metadata": {},
   "outputs": [
    {
     "data": {
      "image/png": "[encoded data removed]",
      "text/plain": [
       "<Figure size 864x504 with 1 Axes>"
      ]
     },
     "metadata": {
      "needs_background": "light"
     },
     "output_type": "display_data"
    }
   ],
   "source": [
    "# plot the correlation between the higher degree and the salary using Matplotlib \n",
    "salary_by_education = salary_by_education.toPandas() \\\n",
    "        .plot(kind=\"barh\", title =\"correlation between the higher degree and the salary\" , x=\"Education Level\", y=\"Salary\", figsize=(12, 7))"
   ]
  },
  {
   "cell_type": "markdown",
   "metadata": {},
   "source": [
    "### Whats the job posting having the highest salary per agency?\n"
   ]
  },
  {
   "cell_type": "code",
   "execution_count": 658,
   "metadata": {},
   "outputs": [
    {
     "name": "stdout",
     "output_type": "stream",
     "text": [
      "+------------------------------+--------------+\n",
      "|                        Agency|Highest Salary|\n",
      "+------------------------------+--------------+\n",
      "|DEPT OF ENVIRONMENT PROTECTION|      218587.0|\n",
      "|             POLICE DEPARTMENT|      200000.0|\n",
      "|         NYC HOUSING AUTHORITY|      175000.0|\n",
      "|DISTRICT ATTORNEY KINGS COUNTY|      175000.0|\n",
      "|                LAW DEPARTMENT|      164104.0|\n",
      "|     OFFICE OF THE COMPTROLLER|      160000.0|\n",
      "|   DEPARTMENT OF INVESTIGATION|      160000.0|\n",
      "| DEPT OF HEALTH/MENTAL HYGIENE|      157725.0|\n",
      "|      DEPARTMENT FOR THE AGING|      150371.0|\n",
      "|HOUSING PRESERVATION & DVLPMNT|      130000.0|\n",
      "|      DEPARTMENT OF CORRECTION|      130000.0|\n",
      "|  NYC EMPLOYEES RETIREMENT SYS|      130000.0|\n",
      "|    DEPT OF PARKS & RECREATION|      128000.0|\n",
      "|    FINANCIAL INFO SVCS AGENCY|      120000.0|\n",
      "|         DEPARTMENT OF FINANCE|      120000.0|\n",
      "|   TAXI & LIMOUSINE COMMISSION|      120000.0|\n",
      "| OFFICE OF MANAGEMENT & BUDGET|      117810.0|\n",
      "|               FIRE DEPARTMENT|      116000.0|\n",
      "|   DEPARTMENT OF CITY PLANNING|      115000.0|\n",
      "|PRESIDENT BOROUGH OF MANHATTAN|      110000.0|\n",
      "+------------------------------+--------------+\n",
      "only showing top 20 rows\n",
      "\n"
     ]
    }
   ],
   "source": [
    "# group the DataFrame by agency and find the highest salary for each agency\n",
    "highest_salary = df.groupBy(\"Agency\").agg(max(\"Salary Range From\").alias(\"Highest Salary\"))\n",
    "#max_salary_per_agency = df.groupBy(\"Agency\").max(\"Salary Range From\")\n",
    "#highest_salary_per_agency = df.groupBy(\"Agency\").agg({\"Salary Range From\": \"max\"})\n",
    "\n",
    "# Sort the data by the highest salary in descending order\n",
    "highest_salary_per_agency = highest_salary.sort(desc(\"Highest Salary\"))#.limit(20)\n",
    "\n",
    "# display the results\n",
    "highest_salary_per_agency.show(truncate=90)\n",
    "\n"
   ]
  },
  {
   "cell_type": "code",
   "execution_count": 659,
   "metadata": {},
   "outputs": [
    {
     "data": {
      "image/png": "[encoded data removed]",
      "text/plain": [
       "<Figure size 864x504 with 1 Axes>"
      ]
     },
     "metadata": {
      "needs_background": "light"
     },
     "output_type": "display_data"
    }
   ],
   "source": [
    "# plot the job posting having the highest salary per agency using Matplotlib \n",
    "highest_salary = highest_salary.toPandas() \\\n",
    "        .plot(kind=\"barh\", title =\"Highest salary per agency \" , x=\"Agency\", y=\"Highest Salary\", figsize=(12, 7))"
   ]
  },
  {
   "cell_type": "markdown",
   "metadata": {},
   "source": [
    "### Whats the job positings average salary per agency for the last 2 years?"
   ]
  },
  {
   "cell_type": "code",
   "execution_count": 740,
   "metadata": {},
   "outputs": [
    {
     "name": "stdout",
     "output_type": "stream",
     "text": [
      "+------+---------------+-----------------+------------+\n",
      "|Agency|Salary Range To|Salary Range From|Posting Date|\n",
      "+------+---------------+-----------------+------------+\n",
      "+------+---------------+-----------------+------------+\n",
      "\n",
      "+------+--------------+\n",
      "|Agency|Highest Salary|\n",
      "+------+--------------+\n",
      "+------+--------------+\n",
      "\n"
     ]
    }
   ],
   "source": [
    "# Select the relevant columns\n",
    "df = df.select(\"Agency\", \"Salary Range To\",\"Salary Range From\", \"Posting Date\")\n",
    "\n",
    "# convert Posting Date column to date datatype\n",
    "df = df.withColumn(\"Posting Date\", to_date(col(\"Posting Date\"), \"yyyy/MM/dd\"))\n",
    "\n",
    "# Filter the dataframe to only include records from the last 2 years\n",
    "last_2years = df.filter(year(\"Posting Date\") >=  year(current_date()) - 2)\n",
    "\n",
    "last_2years.show()\n",
    "\n",
    "# Aggregate data by agency and job position and calculate the average salary\n",
    "highest_salary = last_2years.groupBy(\"Agency\").agg(max(\"Salary Range From\").alias(\"Highest Salary\"))\n",
    "\n",
    "# Display the results\n",
    "highest_salary.show()\n",
    "\n",
    "# average_salary_agency_last_two_years.show()\n",
    "\n",
    "# There's no record returned becuase the latest date is 2019 while the current year is 2023"
   ]
  },
  {
   "cell_type": "markdown",
   "metadata": {},
   "source": [
    "### What are the highest paid skills in the US market?\n"
   ]
  },
  {
   "cell_type": "code",
   "execution_count": null,
   "metadata": {},
   "outputs": [],
   "source": []
  },
  {
   "cell_type": "code",
   "execution_count": 739,
   "metadata": {},
   "outputs": [
    {
     "name": "stdout",
     "output_type": "stream",
     "text": [
      "+------------------------------------------------------------------------------------------+--------------+\n",
      "|                                                                          Preferred Skills|Highest Salary|\n",
      "+------------------------------------------------------------------------------------------+--------------+\n",
      "|                                                                                commercial|      224749.0|\n",
      "|                                                                                managerial|      194395.0|\n",
      "|     at least 18 months of which must have been in a managerial or administrative capacity|      186555.0|\n",
      "|                                    18 months of which must have been in an administrative|      178873.0|\n",
      "|                                                                        and City employees|      170000.0|\n",
      "|\"1. For Assignment to Assignment Level IV  - In addition to meeting the \"\"Qualification...|      161497.0|\n",
      "|                                                                              inventorying|      150371.0|\n",
      "|all candidates must have at least 24 credits in accounting from an accredited college i...|      140000.0|\n",
      "|at least two years of which must have been in a broad administrative or policy-making c...|      140000.0|\n",
      "|                                                             \"\"2\"\" or \"\"3\"\" above. However|      139426.0|\n",
      "|including one year in a project leader capacity or as a major contributor on a complex ...|      136951.0|\n",
      "|                                                                             city planning|      136023.0|\n",
      "|                                                                            urban planning|      118657.0|\n",
      "|                                                        acquired with the last seven years|      105094.0|\n",
      "|                                                                                journalism|       99000.0|\n",
      "|                                                                    accredited by regional|       98100.0|\n",
      "|to be assigned to Assignment Level I-B individuals must have at least one year of satis...|       97850.0|\n",
      "|\"\"2\"\" or \"\"3\"\" above. A college education may be substituted for experience on the basi...|       95000.0|\n",
      "|                            and families through the provision of child care and education|       93866.0|\n",
      "|                                                                                     \"\"2\"\"|       90177.0|\n",
      "+------------------------------------------------------------------------------------------+--------------+\n",
      "only showing top 20 rows\n",
      "\n"
     ]
    }
   ],
   "source": [
    "# Drop any rows with missing values\n",
    "highest_paid_skills = df.dropna()\n",
    "\n",
    "# Trim the \"Preferred Skills\" column \n",
    "highest_paid_skills = highest_paid_skills.withColumn(\"Preferred Skills\", trim(highest_paid_skills[\"Preferred Skills\"]))\n",
    "\n",
    "# group by \"Preferred Skills\" and calculate the maximum \"Salary Range To\"\n",
    "highest_paid_skills = highest_paid_skills.groupBy(\"Preferred Skills\").max(\"Salary Range To\")\\\n",
    "                        .withColumnRenamed(\"max(Salary Range To)\", \"Highest Salary\") \\\n",
    "                        .sort(\"Highest Salary\", ascending=False)\n",
    "\n",
    "# show the result\n",
    "highest_paid_skills.show(truncate=90)\n"
   ]
  },
  {
   "cell_type": "code",
   "execution_count": null,
   "metadata": {},
   "outputs": [],
   "source": []
  },
  {
   "cell_type": "markdown",
   "metadata": {},
   "source": [
    "# Data Processing"
   ]
  },
  {
   "cell_type": "markdown",
   "metadata": {},
   "source": [
    "## Create functions to process your dataset (Cleaning, column pre-processing, data wrangling, transformation etc)"
   ]
  },
  {
   "cell_type": "code",
   "execution_count": null,
   "metadata": {},
   "outputs": [],
   "source": []
  },
  {
   "cell_type": "markdown",
   "metadata": {},
   "source": [
    "### Data Cleaning"
   ]
  },
  {
   "cell_type": "code",
   "execution_count": null,
   "metadata": {},
   "outputs": [],
   "source": [
    "def  drop_duplicate_rows(df):\n",
    "    \"\"\"\n",
    "    This function cleans the dataset by removing any duplicate rows.\n",
    "    \"\"\"\n",
    "    if df:\n",
    "        return df.dropDuplicates()\n",
    "    else:\n",
    "        return None\n",
    "    \n",
    "def replace_null_values(df):\n",
    "    \"\"\"\n",
    "    This function cleans the dataset by replacing any null values with an empty string.\n",
    "    \"\"\"\n",
    "    if df:\n",
    "        return df.fillna(\"\")\n",
    "    else:\n",
    "        return None    \n",
    "\n",
    "def remove_white_space(df):\n",
    "    \"\"\"\n",
    "    This function cleans the dataset by remove any leading or trailing white space in all columns.\n",
    "    \"\"\"\n",
    "    if df:\n",
    "        for col in df.columns:\n",
    "            \n",
    "            return df.withColumn(col, trim(col))\n",
    "    else:\n",
    "        return None       "
   ]
  },
  {
   "cell_type": "code",
   "execution_count": null,
   "metadata": {},
   "outputs": [],
   "source": []
  },
  {
   "cell_type": "markdown",
   "metadata": {},
   "source": [
    "### Column pre-processing"
   ]
  },
  {
   "cell_type": "code",
   "execution_count": null,
   "metadata": {},
   "outputs": [],
   "source": [
    "def convert_columns_datatype(df):\n",
    "    \"\"\"\n",
    "    This function handles pre-processing by converting columns to the required datatype format.\n",
    "    \"\"\"\n",
    "    if df:\n",
    "        # convert Posting Date column to date datatype\n",
    "        df = df.withColumn(\"Posting Date\", to_date(col(\"Posting Date\"), \"yyyy/MM/dd\"))\n",
    "\n",
    "        # convert Salary Range From column to integer datatype\n",
    "        df = df.withColumn(\"Salary Range From\", df[\"Salary Range From\"].cast(\"integer\"))\n",
    "\n",
    "        # convert Salary Range To column to integer datatype\n",
    "        df = df.withColumn(\"Salary Range To\", df[\"Salary Range To\"].cast(\"integer\"))\n",
    "        return df\n",
    "    else:\n",
    "        return None"
   ]
  },
  {
   "cell_type": "code",
   "execution_count": null,
   "metadata": {},
   "outputs": [],
   "source": [
    "from pyspark.sql.functions import lower, initcap, upper, trim\n",
    "# from pyspark.sql.functions import *\n",
    "\n",
    "def process_string_column(df, column_name, mode):\n",
    "    \"\"\"\n",
    "    This function handles pre-processing by converting a string column to either trim upper, lower, or title case.\n",
    "    \"\"\"\n",
    "    \n",
    "    \"\"\"\n",
    "    Apply specified transformation mode to a string column.\n",
    "    \n",
    "    Parameters:\n",
    "    column (pyspark.sql.column): String column to transform.\n",
    "    mode (str): Transformation mode ('lower', 'initcap', or 'upper').\n",
    "    \n",
    "    Returns:\n",
    "    pyspark.sql.column: Transformed column.\n",
    "    \"\"\"\n",
    "    \n",
    "    \"\"\"\n",
    "    mode_func = {\n",
    "        'lower': lower,\n",
    "        'initcap': initcap,\n",
    "        'upper': upper\n",
    "    }\n",
    "    \n",
    "    return when(column.isNotNull(), mode_func[mode](column)).otherwise(column)\n",
    "    \"\"\"\n",
    "    \n",
    "    return df.withColumn(column_name, mode(df[column_name]))\n",
    "\n",
    "# df = lower_string_column(df, \"Business Title\", 'lower')"
   ]
  },
  {
   "cell_type": "markdown",
   "metadata": {},
   "source": [
    "### Data Wrangling"
   ]
  },
  {
   "cell_type": "code",
   "execution_count": null,
   "metadata": {},
   "outputs": [],
   "source": [
    "\n",
    "# filter by column\n",
    "def filter_by_column(df, column_name):\n",
    "    return df.filter(df[column_name] == column_name)\n",
    "\n",
    "# Add \"new average salary\" column\n",
    "def add_average_salary(df):\n",
    "    df = df.withColumn(\"Average Salary\", (col(\"avg(Salary Range From)\") + col(\"avg(Salary Range To)\")) / 2)\n",
    "    return df"
   ]
  },
  {
   "cell_type": "code",
   "execution_count": null,
   "metadata": {},
   "outputs": [],
   "source": []
  },
  {
   "cell_type": "markdown",
   "metadata": {},
   "source": [
    "### Data Transformation"
   ]
  },
  {
   "cell_type": "code",
   "execution_count": 345,
   "metadata": {},
   "outputs": [],
   "source": [
    "# Data wrangling is the process of removing errors and combining complex data sets to make them more accessible and easier to analyze"
   ]
  },
  {
   "cell_type": "code",
   "execution_count": 361,
   "metadata": {},
   "outputs": [
    {
     "name": "stdout",
     "output_type": "stream",
     "text": [
      "+---------------+-----------------+\n",
      "|Salary Range To|Salary Range From|\n",
      "+---------------+-----------------+\n",
      "|         $65485|           $42405|\n",
      "|        $162014|           $60740|\n",
      "|         $54580|           $51907|\n",
      "|         $54580|           $51907|\n",
      "|            $35|              $35|\n",
      "|            $35|              $35|\n",
      "|         $85053|           $50598|\n",
      "|         $75083|           $50623|\n",
      "|        $110000|           $90000|\n",
      "|         $49707|           $30683|\n",
      "|         $60000|           $49492|\n",
      "|        $131623|           $87203|\n",
      "|        $131623|           $87203|\n",
      "|            $10|               $8|\n",
      "|            $10|               $8|\n",
      "|         $51981|           $32086|\n",
      "|         $53000|           $43292|\n",
      "|         $69000|           $49492|\n",
      "|         $51981|           $32086|\n",
      "|         $95896|           $81290|\n",
      "+---------------+-----------------+\n",
      "only showing top 20 rows\n",
      "\n"
     ]
    }
   ],
   "source": [
    "# Select the relevant columns\n",
    "select_salary = df.select(\"Salary Range To\", \"Salary Range From\")\n",
    "\n",
    "# Split the 'Salary Range From' and 'Salary Range To' columns into separate columns\n",
    "# salary_from = df.withColumn(\"Salary Range From\", split(col(\"Salary Range From\"), \"\\$\")[1].cast(\"integer\"))\n",
    "# salary_from.show()\n",
    "\n",
    "# Add a \"$\" sign to the beginning of the \"Salary\" column\n",
    "add_dollar_to_salary = select_salary.withColumn(\"Salary Range From\", concat(lit(\"$\"), df[\"Salary Range From\"]))\n",
    "add_dollar_to_salary = add_dollar_to_salary.withColumn(\"Salary Range To\", concat(lit(\"$\"), df[\"Salary Range To\"]))\n",
    "\n",
    "# Show the modified DataFrame\n",
    "add_dollar_to_salary.show()"
   ]
  },
  {
   "cell_type": "code",
   "execution_count": null,
   "metadata": {},
   "outputs": [],
   "source": []
  },
  {
   "cell_type": "markdown",
   "metadata": {},
   "source": [
    "### Apply atleast 3 feature engineering techniques"
   ]
  },
  {
   "cell_type": "markdown",
   "metadata": {},
   "source": [
    "\n",
    "#### 3 Feature Engineering Techniques\n",
    "\n",
    "1. Encoding Categorical Variables\n",
    "2. Feature Scaling\n",
    "3. Feature Selection"
   ]
  },
  {
   "cell_type": "code",
   "execution_count": null,
   "metadata": {},
   "outputs": [],
   "source": []
  },
  {
   "cell_type": "code",
   "execution_count": 29,
   "metadata": {},
   "outputs": [
    {
     "name": "stdout",
     "output_type": "stream",
     "text": [
      "+--------------------+--------------------+--------------------+-----------------+-------------+------------------+\n",
      "|              Agency|      Business Title|        Job Category|Salary Range From|JobCategoryID|JobCategoryEncoder|\n",
      "+--------------------+--------------------+--------------------+-----------------+-------------+------------------+\n",
      "|DEPARTMENT OF TRA...|Telecom Associate...|Technology, Data ...|          42129.0|          0.0|    (35,[0],[1.0])|\n",
      "|DEPARTMENT OF CIT...|   Senior Programmer|Technology, Data ...|          85000.0|          0.0|    (35,[0],[1.0])|\n",
      "|NYC EMPLOYEES RET...|COMPUTER SYSTEMS ...|Technology, Data ...|          54643.0|          0.0|    (35,[0],[1.0])|\n",
      "|NYC EMPLOYEES RET...|COMPUTER SPECIALI...|Technology, Data ...|          89509.0|          0.0|    (35,[0],[1.0])|\n",
      "|DEPT OF INFO TECH...|Manager, IT Inven...|Technology, Data ...|          79471.0|          0.0|    (35,[0],[1.0])|\n",
      "|NYC EMPLOYEES RET...|COMPUTER SPECIALI...|Technology, Data ...|          76288.0|          0.0|    (35,[0],[1.0])|\n",
      "|NYC EMPLOYEES RET...|COMPUTER SYSTEMS ...|Technology, Data ...|          54643.0|          0.0|    (35,[0],[1.0])|\n",
      "|TAXI & LIMOUSINE ...|  Software Architect|Technology, Data ...|          95000.0|          0.0|    (35,[0],[1.0])|\n",
      "|NYC EMPLOYEES RET...|COMPUTER SPECIALI...|Technology, Data ...|          76288.0|          0.0|    (35,[0],[1.0])|\n",
      "|DEPT OF INFO TECH...|PSAC Facility Ope...|Technology, Data ...|          92065.0|          0.0|    (35,[0],[1.0])|\n",
      "|TAXI & LIMOUSINE ...|Project Manager -...|Technology, Data ...|          85000.0|          0.0|    (35,[0],[1.0])|\n",
      "|TAXI & LIMOUSINE ...|Quality Analyst L...|Technology, Data ...|          85000.0|          0.0|    (35,[0],[1.0])|\n",
      "|TAXI & LIMOUSINE ...|Quality Analyst L...|Technology, Data ...|          85000.0|          0.0|    (35,[0],[1.0])|\n",
      "|NYC EMPLOYEES RET...|COMPUTER SPECIALI...|Technology, Data ...|          89509.0|          0.0|    (35,[0],[1.0])|\n",
      "|NYC EMPLOYEES RET...|COMPUTER SPECIALI...|Technology, Data ...|          89509.0|          0.0|    (35,[0],[1.0])|\n",
      "|NYC EMPLOYEES RET...|COMPUTER SPECIALI...|Technology, Data ...|          79564.0|          0.0|    (35,[0],[1.0])|\n",
      "|NYC EMPLOYEES RET...|COMPUTER SPECIALI...|Technology, Data ...|          79564.0|          0.0|    (35,[0],[1.0])|\n",
      "|NYC EMPLOYEES RET...|COMPUTER SPECIALI...|Technology, Data ...|          89509.0|          0.0|    (35,[0],[1.0])|\n",
      "|TAXI & LIMOUSINE ...|  Software Architect|Technology, Data ...|          95000.0|          0.0|    (35,[0],[1.0])|\n",
      "|TAXI & LIMOUSINE ...|Project Manager -...|Technology, Data ...|          85000.0|          0.0|    (35,[0],[1.0])|\n",
      "+--------------------+--------------------+--------------------+-----------------+-------------+------------------+\n",
      "only showing top 20 rows\n",
      "\n"
     ]
    }
   ],
   "source": [
    "# 1. Encoding Categorical Variables\n",
    "\n",
    "# Drop any rows with missing values\n",
    "df = df.dropna()\n",
    "\n",
    "# Select the relevant columns\n",
    "select_columns = df.select('Agency','Business Title', 'Job Category', 'Salary Range From')\n",
    "\n",
    "# encode agency column using StringIndexer\n",
    "agency_indexer = StringIndexer(inputCol=\"Job Category\", outputCol=\"JobCategoryID\")\n",
    "agency_stringIndexer = agency_indexer.fit(select_columns).transform(select_columns)\n",
    "\n",
    "# encode agency column using OneHotEncoder\n",
    "agency_encoder = OneHotEncoder(inputCol=\"JobCategoryID\", outputCol=\"JobCategoryEncoder\")\n",
    "agency_hotEncoder = agency_encoder.transform(agency_stringIndexer)\n",
    "agency_hotEncoder.sort(\"JobCategoryID\", ascending=True).show()\n",
    "\n"
   ]
  },
  {
   "cell_type": "code",
   "execution_count": null,
   "metadata": {},
   "outputs": [],
   "source": [
    "2. # Feature Scaling"
   ]
  },
  {
   "cell_type": "code",
   "execution_count": 31,
   "metadata": {},
   "outputs": [
    {
     "name": "stdout",
     "output_type": "stream",
     "text": [
      "+--------------------+--------------------+--------------------+--------------------+\n",
      "|        Job Category|              Agency|      Business Title|     salary_features|\n",
      "+--------------------+--------------------+--------------------+--------------------+\n",
      "|Finance, Accounti...|DEPT OF INFO TECH...|Deputy Director, ...|[0.309325,0.26685...|\n",
      "|Community & Busin...|DEPT OF INFO TECH...|311 Call Center M...|[0.309325,0.30690...|\n",
      "|Clerical & Admini...|DEPT OF INFO TECH...|  Research Assistant|[0.25034375,0.269...|\n",
      "|Clerical & Admini...|DEPT OF INFO TECH...|311 Call Center M...|[0.33358125,0.320...|\n",
      "|Community & Busin...|DEPT OF INFO TECH...|311 Call Center M...|[0.4,0.3158090304...|\n",
      "|Policy & Analysis...|ADMIN FOR CHILDRE...|APA Foster Care P...|[0.37530625,0.395...|\n",
      "|Policy & Analysis...|ADMIN FOR CHILDRE...|APA Foster Care P...|[0.37530625,0.395...|\n",
      "|     Social Services|ADMIN FOR CHILDRE...|Asset Management ...|[0.29003125,0.300...|\n",
      "|     Social Services|ADMIN FOR CHILDRE...|Asset Management ...|[0.29003125,0.300...|\n",
      "|Information Techn...|      LAW DEPARTMENT|Senior Windows Ad...|[0.48223125,0.442...|\n",
      "|Engineering, Arch...|DEPARTMENT OF TRA...|Senior Port Engineer|[0.37771875,0.600...|\n",
      "|Engineering, Arch...|DEPARTMENT OF TRA...|Senior Port Engineer|[0.37771875,0.600...|\n",
      "|Technology, Data ...|NYC EMPLOYEES RET...|COMPUTER SYSTEMS ...|[0.34151875,0.669...|\n",
      "|Technology, Data ...|NYC EMPLOYEES RET...|COMPUTER SYSTEMS ...|[0.34151875,0.669...|\n",
      "|Engineering, Arch...|DEPARTMENT OF TRA...|Waterfront Facili...|[0.30334375,0.467...|\n",
      "|Engineering, Arch...|DEPARTMENT OF TRA...|Waterfront Facili...|[0.30334375,0.467...|\n",
      "|Public Safety, In...|   POLICE DEPARTMENT|Quality Assurance...|[0.37771875,0.718...|\n",
      "|Public Safety, In...|   POLICE DEPARTMENT|Quality Assurance...|[0.37771875,0.718...|\n",
      "|Engineering, Arch...|DEPARTMENT OF TRA...| Resiliency Engineer|[0.53125,0.467110...|\n",
      "|Engineering, Arch...|DEPARTMENT OF TRA...| Resiliency Engineer|[0.53125,0.467110...|\n",
      "+--------------------+--------------------+--------------------+--------------------+\n",
      "only showing top 20 rows\n",
      "\n"
     ]
    }
   ],
   "source": [
    "# Drop any rows with missing values\n",
    "df = df.dropna()\n",
    "\n",
    "# Select the relevant columns\n",
    "#select_columns = df.select('Business Title', 'Job Category', 'Salary Range From')\n",
    "\n",
    "# select the columns to be scaled\n",
    "columns_to_scale = ['Salary Range From', 'Salary Range To']\n",
    "\n",
    "# assemble the selected columns into a vector column\n",
    "assembler = VectorAssembler(inputCols=columns_to_scale, outputCol=\"features\")\n",
    "salary_assembled = assembler.transform(df)\n",
    "\n",
    "# instantiate a MinMaxScaler object\n",
    "scaler = MinMaxScaler(inputCol=\"features\", outputCol=\"salary_features\")\n",
    "\n",
    "# fit and transform the scaler on the assembled dataset\n",
    "scaler_model = scaler.fit(salary_assembled)\n",
    "salary_scaled = scaler_model.transform(salary_assembled)\n",
    "\n",
    "# select the scaled feature column and any other required columns\n",
    "salary_scaled.select(col(\"Job Category\"), col(\"Agency\"), col(\"Business Title\"), col(\"salary_features\")).show()"
   ]
  },
  {
   "cell_type": "code",
   "execution_count": null,
   "metadata": {},
   "outputs": [],
   "source": [
    "# 3. Feature Selection"
   ]
  },
  {
   "cell_type": "code",
   "execution_count": 49,
   "metadata": {},
   "outputs": [
    {
     "data": {
      "text/html": [
       "<div>\n",
       "<style scoped>\n",
       "    .dataframe tbody tr th:only-of-type {\n",
       "        vertical-align: middle;\n",
       "    }\n",
       "\n",
       "    .dataframe tbody tr th {\n",
       "        vertical-align: top;\n",
       "    }\n",
       "\n",
       "    .dataframe thead th {\n",
       "        text-align: right;\n",
       "    }\n",
       "</style>\n",
       "<table border=\"1\" class=\"dataframe\">\n",
       "  <thead>\n",
       "    <tr style=\"text-align: right;\">\n",
       "      <th></th>\n",
       "      <th>Business Title</th>\n",
       "      <th>Job Category</th>\n",
       "      <th>selectedFeatures</th>\n",
       "    </tr>\n",
       "  </thead>\n",
       "  <tbody>\n",
       "    <tr>\n",
       "      <th>0</th>\n",
       "      <td>Deputy Director, Audits and Accounts</td>\n",
       "      <td>Finance, Accounting, &amp; Procurement</td>\n",
       "      <td>[60000.0]</td>\n",
       "    </tr>\n",
       "    <tr>\n",
       "      <th>1</th>\n",
       "      <td>311 Call Center Manager</td>\n",
       "      <td>Community &amp; Business Services</td>\n",
       "      <td>[69000.0]</td>\n",
       "    </tr>\n",
       "    <tr>\n",
       "      <th>2</th>\n",
       "      <td>Research Assistant</td>\n",
       "      <td>Clerical &amp; Administrative Support Legal</td>\n",
       "      <td>[60611.0]</td>\n",
       "    </tr>\n",
       "    <tr>\n",
       "      <th>3</th>\n",
       "      <td>311 Call Center Manager</td>\n",
       "      <td>Clerical &amp; Administrative Support Community &amp; ...</td>\n",
       "      <td>[72000.0]</td>\n",
       "    </tr>\n",
       "    <tr>\n",
       "      <th>4</th>\n",
       "      <td>311 Call Center Manager</td>\n",
       "      <td>Community &amp; Business Services</td>\n",
       "      <td>[71000.0]</td>\n",
       "    </tr>\n",
       "    <tr>\n",
       "      <th>...</th>\n",
       "      <td>...</td>\n",
       "      <td>...</td>\n",
       "      <td>...</td>\n",
       "    </tr>\n",
       "    <tr>\n",
       "      <th>229</th>\n",
       "      <td>Agency Attorney</td>\n",
       "      <td>Legal Affairs</td>\n",
       "      <td>[82137.0]</td>\n",
       "    </tr>\n",
       "    <tr>\n",
       "      <th>230</th>\n",
       "      <td>Agency Attorney</td>\n",
       "      <td>Legal Affairs</td>\n",
       "      <td>[82137.0]</td>\n",
       "    </tr>\n",
       "    <tr>\n",
       "      <th>231</th>\n",
       "      <td>Supervisor</td>\n",
       "      <td>Finance, Accounting, &amp; Procurement Legal Affairs</td>\n",
       "      <td>[59014.0]</td>\n",
       "    </tr>\n",
       "    <tr>\n",
       "      <th>232</th>\n",
       "      <td>TECH SUPPORT/SCHEDULER</td>\n",
       "      <td>Technology, Data &amp; Innovation</td>\n",
       "      <td>[85000.0]</td>\n",
       "    </tr>\n",
       "    <tr>\n",
       "      <th>233</th>\n",
       "      <td>TECH SUPPORT/SCHEDULER</td>\n",
       "      <td>Technology, Data &amp; Innovation</td>\n",
       "      <td>[85000.0]</td>\n",
       "    </tr>\n",
       "  </tbody>\n",
       "</table>\n",
       "<p>234 rows × 3 columns</p>\n",
       "</div>"
      ],
      "text/plain": [
       "                           Business Title  \\\n",
       "0    Deputy Director, Audits and Accounts   \n",
       "1                 311 Call Center Manager   \n",
       "2                      Research Assistant   \n",
       "3                 311 Call Center Manager   \n",
       "4                 311 Call Center Manager   \n",
       "..                                    ...   \n",
       "229                       Agency Attorney   \n",
       "230                       Agency Attorney   \n",
       "231                            Supervisor   \n",
       "232                TECH SUPPORT/SCHEDULER   \n",
       "233                TECH SUPPORT/SCHEDULER   \n",
       "\n",
       "                                          Job Category selectedFeatures  \n",
       "0                   Finance, Accounting, & Procurement        [60000.0]  \n",
       "1                        Community & Business Services        [69000.0]  \n",
       "2              Clerical & Administrative Support Legal        [60611.0]  \n",
       "3    Clerical & Administrative Support Community & ...        [72000.0]  \n",
       "4                        Community & Business Services        [71000.0]  \n",
       "..                                                 ...              ...  \n",
       "229                                      Legal Affairs        [82137.0]  \n",
       "230                                      Legal Affairs        [82137.0]  \n",
       "231   Finance, Accounting, & Procurement Legal Affairs        [59014.0]  \n",
       "232                      Technology, Data & Innovation        [85000.0]  \n",
       "233                      Technology, Data & Innovation        [85000.0]  \n",
       "\n",
       "[234 rows x 3 columns]"
      ]
     },
     "execution_count": 49,
     "metadata": {},
     "output_type": "execute_result"
    }
   ],
   "source": [
    "# Drop any rows with missing values\n",
    "df = df.dropna()\n",
    "\n",
    "# Select relevant columns and convert to features vector\n",
    "# assembler = VectorAssembler(inputCols=[\"# Of Positions\", \"Salary Range To\", \"Residency Requirement\"], outputCol=\"features\")\n",
    "assembler = VectorAssembler(inputCols=[\"Salary Range To\"], outputCol=\"features\")\n",
    "features_vector = assembler.transform(df).select( \"Business Title\", \"Job Category\", \"features\", \"Salary Range From\")\n",
    "\n",
    "# Perform chi-squared feature selection\n",
    "selector = ChiSqSelector(numTopFeatures=2, featuresCol=\"features\", outputCol=\"selectedFeatures\", labelCol=\"Salary Range From\")\n",
    "selected_features = selector.fit(features_vector).transform(features_vector)\n",
    "\n",
    "# Show the selected features\n",
    "selected_features.select( \"Business Title\",\"Job Category\", \"selectedFeatures\").toPandas()"
   ]
  },
  {
   "cell_type": "code",
   "execution_count": null,
   "metadata": {},
   "outputs": [],
   "source": []
  },
  {
   "cell_type": "markdown",
   "metadata": {},
   "source": [
    "### Features removal based on the exploration/ profiling."
   ]
  },
  {
   "cell_type": "code",
   "execution_count": 71,
   "metadata": {},
   "outputs": [
    {
     "name": "stdout",
     "output_type": "stream",
     "text": [
      "+------+------+------------+--------------+--------------+-------------------+-------------+-----+------------+-----------------------------+-----------------+---------------+----------------+-------------+------------------+---------------+-------------------------+----------------+----------------------+--------+-----------+---------------+-------------------+---------------------+------------+----------+---------------+------------+\n",
      "|Job ID|Agency|Posting Type|# Of Positions|Business Title|Civil Service Title|Title Code No|Level|Job Category|Full-Time/Part-Time indicator|Salary Range From|Salary Range To|Salary Frequency|Work Location|Division/Work Unit|Job Description|Minimum Qual Requirements|Preferred Skills|Additional Information|To Apply|Hours/Shift|Work Location 1|Recruitment Contact|Residency Requirement|Posting Date|Post Until|Posting Updated|Process Date|\n",
      "+------+------+------------+--------------+--------------+-------------------+-------------+-----+------------+-----------------------------+-----------------+---------------+----------------+-------------+------------------+---------------+-------------------------+----------------+----------------------+--------+-----------+---------------+-------------------+---------------------+------------+----------+---------------+------------+\n",
      "|     0|     0|           0|             0|             0|                  0|            0|    0|           2|                          195|                0|              0|               0|            0|                 0|              0|                       18|             259|                   563|     180|       1062|           1138|               1763|                  678|         517|      1499|            508|         425|\n",
      "+------+------+------------+--------------+--------------+-------------------+-------------+-----+------------+-----------------------------+-----------------+---------------+----------------+-------------+------------------+---------------+-------------------------+----------------+----------------------+--------+-----------+---------------+-------------------+---------------------+------------+----------+---------------+------------+\n",
      "\n"
     ]
    },
    {
     "data": {
      "text/html": [
       "<div>\n",
       "<style scoped>\n",
       "    .dataframe tbody tr th:only-of-type {\n",
       "        vertical-align: middle;\n",
       "    }\n",
       "\n",
       "    .dataframe tbody tr th {\n",
       "        vertical-align: top;\n",
       "    }\n",
       "\n",
       "    .dataframe thead th {\n",
       "        text-align: right;\n",
       "    }\n",
       "</style>\n",
       "<table border=\"1\" class=\"dataframe\">\n",
       "  <thead>\n",
       "    <tr style=\"text-align: right;\">\n",
       "      <th></th>\n",
       "      <th>Job ID</th>\n",
       "      <th>Agency</th>\n",
       "      <th>Posting Type</th>\n",
       "      <th># Of Positions</th>\n",
       "      <th>Business Title</th>\n",
       "      <th>Civil Service Title</th>\n",
       "      <th>Title Code No</th>\n",
       "      <th>Level</th>\n",
       "      <th>Job Category</th>\n",
       "      <th>Full-Time/Part-Time indicator</th>\n",
       "      <th>...</th>\n",
       "      <th>Work Location</th>\n",
       "      <th>Division/Work Unit</th>\n",
       "      <th>Job Description</th>\n",
       "      <th>Minimum Qual Requirements</th>\n",
       "      <th>Preferred Skills</th>\n",
       "      <th>Additional Information</th>\n",
       "      <th>To Apply</th>\n",
       "      <th>Hours/Shift</th>\n",
       "      <th>Residency Requirement</th>\n",
       "      <th>Posting Date</th>\n",
       "    </tr>\n",
       "  </thead>\n",
       "  <tbody>\n",
       "    <tr>\n",
       "      <th>0</th>\n",
       "      <td>87990</td>\n",
       "      <td>DEPARTMENT OF BUSINESS SERV.</td>\n",
       "      <td>Internal</td>\n",
       "      <td>1</td>\n",
       "      <td>Account Manager</td>\n",
       "      <td>CONTRACT REVIEWER (OFFICE OF L</td>\n",
       "      <td>40563</td>\n",
       "      <td>1</td>\n",
       "      <td>None</td>\n",
       "      <td>None</td>\n",
       "      <td>...</td>\n",
       "      <td>110 William St. N Y</td>\n",
       "      <td>Strategy &amp; Analytics</td>\n",
       "      <td>Division of Economic &amp; Financial Opportunity (...</td>\n",
       "      <td>\"1.\\tA baccalaureate degree from an accredited...</td>\n",
       "      <td>all candidates must have at least one year of...</td>\n",
       "      <td>â€¢\\tExcellent interpersonal and organizationa...</td>\n",
       "      <td>Salary range for this position is: $42,405 - $...</td>\n",
       "      <td>None</td>\n",
       "      <td>None</td>\n",
       "      <td>New York City residency is generally required ...</td>\n",
       "    </tr>\n",
       "    <tr>\n",
       "      <th>1</th>\n",
       "      <td>97899</td>\n",
       "      <td>DEPARTMENT OF BUSINESS SERV.</td>\n",
       "      <td>Internal</td>\n",
       "      <td>1</td>\n",
       "      <td>EXECUTIVE DIRECTOR, BUSINESS DEVELOPMENT</td>\n",
       "      <td>ADMINISTRATIVE BUSINESS PROMOT</td>\n",
       "      <td>10009</td>\n",
       "      <td>M3</td>\n",
       "      <td>None</td>\n",
       "      <td>F</td>\n",
       "      <td>...</td>\n",
       "      <td>110 William St. N Y</td>\n",
       "      <td>Tech Talent Pipeline</td>\n",
       "      <td>The New York City Department of Small Business...</td>\n",
       "      <td>\"1. A baccalaureate degree from an accredited ...</td>\n",
       "      <td>None</td>\n",
       "      <td>None</td>\n",
       "      <td>In addition to applying through this website, ...</td>\n",
       "      <td>None</td>\n",
       "      <td>New York City residency is generally required ...</td>\n",
       "      <td>2012-01-26T00:00:00.000</td>\n",
       "    </tr>\n",
       "    <tr>\n",
       "      <th>2</th>\n",
       "      <td>132292</td>\n",
       "      <td>NYC HOUSING AUTHORITY</td>\n",
       "      <td>External</td>\n",
       "      <td>52</td>\n",
       "      <td>Maintenance Worker - Technical Services-Heatin...</td>\n",
       "      <td>MAINTENANCE WORKER</td>\n",
       "      <td>90698</td>\n",
       "      <td>0</td>\n",
       "      <td>Maintenance &amp; Operations</td>\n",
       "      <td>F</td>\n",
       "      <td>...</td>\n",
       "      <td>Heating Mgt-Operations</td>\n",
       "      <td>Management Services Department</td>\n",
       "      <td>Under direct supervision, assist in the routin...</td>\n",
       "      <td>\"1. Three years of full-time satisfactory expe...</td>\n",
       "      <td>mechanical</td>\n",
       "      <td>or construction trades in a trade school or v...</td>\n",
       "      <td>may be substituted for six months of the expe...</td>\n",
       "      <td>all candidates must have a minimum of two yea...</td>\n",
       "      <td>\"Click the \"\"Apply Now\"\" button.\"</td>\n",
       "      <td>None</td>\n",
       "    </tr>\n",
       "    <tr>\n",
       "      <th>3</th>\n",
       "      <td>132292</td>\n",
       "      <td>NYC HOUSING AUTHORITY</td>\n",
       "      <td>Internal</td>\n",
       "      <td>52</td>\n",
       "      <td>Maintenance Worker - Technical Services-Heatin...</td>\n",
       "      <td>MAINTENANCE WORKER</td>\n",
       "      <td>90698</td>\n",
       "      <td>0</td>\n",
       "      <td>Maintenance &amp; Operations</td>\n",
       "      <td>F</td>\n",
       "      <td>...</td>\n",
       "      <td>Heating Mgt-Operations</td>\n",
       "      <td>Management Services Department</td>\n",
       "      <td>Under direct supervision, assist in the routin...</td>\n",
       "      <td>\"1. Three years of full-time satisfactory expe...</td>\n",
       "      <td>mechanical</td>\n",
       "      <td>or construction trades in a trade school or v...</td>\n",
       "      <td>may be substituted for six months of the expe...</td>\n",
       "      <td>all candidates must have a minimum of two yea...</td>\n",
       "      <td>\"Click the \"\"Apply Now\"\" button.\"</td>\n",
       "      <td>None</td>\n",
       "    </tr>\n",
       "    <tr>\n",
       "      <th>4</th>\n",
       "      <td>133921</td>\n",
       "      <td>NYC HOUSING AUTHORITY</td>\n",
       "      <td>Internal</td>\n",
       "      <td>50</td>\n",
       "      <td>Temporary Painter</td>\n",
       "      <td>PAINTER</td>\n",
       "      <td>91830</td>\n",
       "      <td>0</td>\n",
       "      <td>Maintenance &amp; Operations</td>\n",
       "      <td>F</td>\n",
       "      <td>...</td>\n",
       "      <td>DMP-Contract &amp; Analysis Unit</td>\n",
       "      <td>Dept of Management &amp; Planning</td>\n",
       "      <td>Responsibilities of selected candidates will i...</td>\n",
       "      <td>1. Five years of full-time satisfactory experi...</td>\n",
       "      <td>None</td>\n",
       "      <td>SPECIAL NOTE:    1.  This is a temporary assig...</td>\n",
       "      <td>\"Click the \"\"Apply Now\"\" button.\"</td>\n",
       "      <td>None</td>\n",
       "      <td>NYCHA has no residency requirement.</td>\n",
       "      <td>2014-01-09T00:00:00.000</td>\n",
       "    </tr>\n",
       "    <tr>\n",
       "      <th>...</th>\n",
       "      <td>...</td>\n",
       "      <td>...</td>\n",
       "      <td>...</td>\n",
       "      <td>...</td>\n",
       "      <td>...</td>\n",
       "      <td>...</td>\n",
       "      <td>...</td>\n",
       "      <td>...</td>\n",
       "      <td>...</td>\n",
       "      <td>...</td>\n",
       "      <td>...</td>\n",
       "      <td>...</td>\n",
       "      <td>...</td>\n",
       "      <td>...</td>\n",
       "      <td>...</td>\n",
       "      <td>...</td>\n",
       "      <td>...</td>\n",
       "      <td>...</td>\n",
       "      <td>...</td>\n",
       "      <td>...</td>\n",
       "      <td>...</td>\n",
       "    </tr>\n",
       "    <tr>\n",
       "      <th>2941</th>\n",
       "      <td>426214</td>\n",
       "      <td>HOUSING PRESERVATION &amp; DVLPMNT</td>\n",
       "      <td>External</td>\n",
       "      <td>1</td>\n",
       "      <td>Senior Mechanical Cost Estimator</td>\n",
       "      <td>CONSTRUCTION PROJECT MANAGER</td>\n",
       "      <td>34202</td>\n",
       "      <td>2</td>\n",
       "      <td>Engineering, Architecture, &amp; Planning</td>\n",
       "      <td>F</td>\n",
       "      <td>...</td>\n",
       "      <td>100 Gold Street</td>\n",
       "      <td>Eng, Design Const Supp</td>\n",
       "      <td>The New York City Department of Housing Preser...</td>\n",
       "      <td>\"1. A four-year high school diploma or its edu...</td>\n",
       "      <td>candidates must have one additional year of s...</td>\n",
       "      <td>in addition to meeting the Qualification Requ...</td>\n",
       "      <td>candidates must have two additional years of ...</td>\n",
       "      <td>license suspension or an accident record</td>\n",
       "      <td>None</td>\n",
       "      <td>Apply Online.</td>\n",
       "    </tr>\n",
       "    <tr>\n",
       "      <th>2942</th>\n",
       "      <td>426214</td>\n",
       "      <td>HOUSING PRESERVATION &amp; DVLPMNT</td>\n",
       "      <td>Internal</td>\n",
       "      <td>1</td>\n",
       "      <td>Senior Mechanical Cost Estimator</td>\n",
       "      <td>CONSTRUCTION PROJECT MANAGER</td>\n",
       "      <td>34202</td>\n",
       "      <td>2</td>\n",
       "      <td>Engineering, Architecture, &amp; Planning</td>\n",
       "      <td>F</td>\n",
       "      <td>...</td>\n",
       "      <td>100 Gold Street</td>\n",
       "      <td>Eng, Design Const Supp</td>\n",
       "      <td>The New York City Department of Housing Preser...</td>\n",
       "      <td>\"1. A four-year high school diploma or its edu...</td>\n",
       "      <td>candidates must have one additional year of s...</td>\n",
       "      <td>in addition to meeting the Qualification Requ...</td>\n",
       "      <td>candidates must have two additional years of ...</td>\n",
       "      <td>license suspension or an accident record</td>\n",
       "      <td>None</td>\n",
       "      <td>Apply Online.</td>\n",
       "    </tr>\n",
       "    <tr>\n",
       "      <th>2943</th>\n",
       "      <td>426223</td>\n",
       "      <td>HOUSING PRESERVATION &amp; DVLPMNT</td>\n",
       "      <td>Internal</td>\n",
       "      <td>1</td>\n",
       "      <td>Conversion Coordinator</td>\n",
       "      <td>COMMUNITY COORDINATOR</td>\n",
       "      <td>56058</td>\n",
       "      <td>0</td>\n",
       "      <td>Building Operations &amp; Maintenance</td>\n",
       "      <td>F</td>\n",
       "      <td>...</td>\n",
       "      <td>100 Gold Street</td>\n",
       "      <td>Operations</td>\n",
       "      <td>The New York City Department of Housing Preser...</td>\n",
       "      <td>\"1. A baccalaureate degree from an accredited ...</td>\n",
       "      <td>all candidates must have at least one year of...</td>\n",
       "      <td>Strong preference for candidates who possess: ...</td>\n",
       "      <td>None</td>\n",
       "      <td>Apply Online.</td>\n",
       "      <td>None</td>\n",
       "      <td>New York City residency is generally required ...</td>\n",
       "    </tr>\n",
       "    <tr>\n",
       "      <th>2944</th>\n",
       "      <td>426223</td>\n",
       "      <td>HOUSING PRESERVATION &amp; DVLPMNT</td>\n",
       "      <td>External</td>\n",
       "      <td>1</td>\n",
       "      <td>Conversion Coordinator</td>\n",
       "      <td>COMMUNITY COORDINATOR</td>\n",
       "      <td>56058</td>\n",
       "      <td>0</td>\n",
       "      <td>Building Operations &amp; Maintenance</td>\n",
       "      <td>F</td>\n",
       "      <td>...</td>\n",
       "      <td>100 Gold Street</td>\n",
       "      <td>Operations</td>\n",
       "      <td>The New York City Department of Housing Preser...</td>\n",
       "      <td>\"1. A baccalaureate degree from an accredited ...</td>\n",
       "      <td>all candidates must have at least one year of...</td>\n",
       "      <td>Strong preference for candidates who possess: ...</td>\n",
       "      <td>None</td>\n",
       "      <td>Apply Online.</td>\n",
       "      <td>None</td>\n",
       "      <td>New York City residency is generally required ...</td>\n",
       "    </tr>\n",
       "    <tr>\n",
       "      <th>2945</th>\n",
       "      <td>426238</td>\n",
       "      <td>DEPARTMENT OF BUILDINGS</td>\n",
       "      <td>Internal</td>\n",
       "      <td>1</td>\n",
       "      <td>Administrative Associate</td>\n",
       "      <td>CLERICAL ASSOCIATE</td>\n",
       "      <td>10251</td>\n",
       "      <td>3</td>\n",
       "      <td>Administration &amp; Human Resources</td>\n",
       "      <td>F</td>\n",
       "      <td>...</td>\n",
       "      <td>11 Park Place, New York, Ny</td>\n",
       "      <td>Internal Audits &amp; Discipline</td>\n",
       "      <td>Overseen by the Office Manager, the Administra...</td>\n",
       "      <td>Qualification Requirements  A four-year high s...</td>\n",
       "      <td>ERROR: #NAME?</td>\n",
       "      <td>ONLY PERMANENT CLERICAL ASSOCIAT WILL BE CONSI...</td>\n",
       "      <td>For Current City Employees: Visit www.nyc.gov/...</td>\n",
       "      <td>None</td>\n",
       "      <td>New York City residency is generally required ...</td>\n",
       "      <td>2019-12-16T00:00:00.000</td>\n",
       "    </tr>\n",
       "  </tbody>\n",
       "</table>\n",
       "<p>2946 rows × 23 columns</p>\n",
       "</div>"
      ],
      "text/plain": [
       "      Job ID                          Agency Posting Type  # Of Positions  \\\n",
       "0      87990    DEPARTMENT OF BUSINESS SERV.     Internal               1   \n",
       "1      97899    DEPARTMENT OF BUSINESS SERV.     Internal               1   \n",
       "2     132292           NYC HOUSING AUTHORITY     External              52   \n",
       "3     132292           NYC HOUSING AUTHORITY     Internal              52   \n",
       "4     133921           NYC HOUSING AUTHORITY     Internal              50   \n",
       "...      ...                             ...          ...             ...   \n",
       "2941  426214  HOUSING PRESERVATION & DVLPMNT     External               1   \n",
       "2942  426214  HOUSING PRESERVATION & DVLPMNT     Internal               1   \n",
       "2943  426223  HOUSING PRESERVATION & DVLPMNT     Internal               1   \n",
       "2944  426223  HOUSING PRESERVATION & DVLPMNT     External               1   \n",
       "2945  426238         DEPARTMENT OF BUILDINGS     Internal               1   \n",
       "\n",
       "                                         Business Title  \\\n",
       "0                                       Account Manager   \n",
       "1              EXECUTIVE DIRECTOR, BUSINESS DEVELOPMENT   \n",
       "2     Maintenance Worker - Technical Services-Heatin...   \n",
       "3     Maintenance Worker - Technical Services-Heatin...   \n",
       "4                                     Temporary Painter   \n",
       "...                                                 ...   \n",
       "2941                   Senior Mechanical Cost Estimator   \n",
       "2942                   Senior Mechanical Cost Estimator   \n",
       "2943                             Conversion Coordinator   \n",
       "2944                             Conversion Coordinator   \n",
       "2945                           Administrative Associate   \n",
       "\n",
       "                 Civil Service Title Title Code No Level  \\\n",
       "0     CONTRACT REVIEWER (OFFICE OF L         40563     1   \n",
       "1     ADMINISTRATIVE BUSINESS PROMOT         10009    M3   \n",
       "2                 MAINTENANCE WORKER         90698     0   \n",
       "3                 MAINTENANCE WORKER         90698     0   \n",
       "4                            PAINTER         91830     0   \n",
       "...                              ...           ...   ...   \n",
       "2941    CONSTRUCTION PROJECT MANAGER         34202     2   \n",
       "2942    CONSTRUCTION PROJECT MANAGER         34202     2   \n",
       "2943           COMMUNITY COORDINATOR         56058     0   \n",
       "2944           COMMUNITY COORDINATOR         56058     0   \n",
       "2945              CLERICAL ASSOCIATE         10251     3   \n",
       "\n",
       "                               Job Category Full-Time/Part-Time indicator  \\\n",
       "0                                      None                          None   \n",
       "1                                      None                             F   \n",
       "2                  Maintenance & Operations                             F   \n",
       "3                  Maintenance & Operations                             F   \n",
       "4                  Maintenance & Operations                             F   \n",
       "...                                     ...                           ...   \n",
       "2941  Engineering, Architecture, & Planning                             F   \n",
       "2942  Engineering, Architecture, & Planning                             F   \n",
       "2943      Building Operations & Maintenance                             F   \n",
       "2944      Building Operations & Maintenance                             F   \n",
       "2945       Administration & Human Resources                             F   \n",
       "\n",
       "      ...                 Work Location              Division/Work Unit  \\\n",
       "0     ...           110 William St. N Y            Strategy & Analytics   \n",
       "1     ...           110 William St. N Y            Tech Talent Pipeline   \n",
       "2     ...        Heating Mgt-Operations  Management Services Department   \n",
       "3     ...        Heating Mgt-Operations  Management Services Department   \n",
       "4     ...  DMP-Contract & Analysis Unit   Dept of Management & Planning   \n",
       "...   ...                           ...                             ...   \n",
       "2941  ...               100 Gold Street          Eng, Design Const Supp   \n",
       "2942  ...               100 Gold Street          Eng, Design Const Supp   \n",
       "2943  ...               100 Gold Street                      Operations   \n",
       "2944  ...               100 Gold Street                      Operations   \n",
       "2945  ...   11 Park Place, New York, Ny    Internal Audits & Discipline   \n",
       "\n",
       "                                        Job Description  \\\n",
       "0     Division of Economic & Financial Opportunity (...   \n",
       "1     The New York City Department of Small Business...   \n",
       "2     Under direct supervision, assist in the routin...   \n",
       "3     Under direct supervision, assist in the routin...   \n",
       "4     Responsibilities of selected candidates will i...   \n",
       "...                                                 ...   \n",
       "2941  The New York City Department of Housing Preser...   \n",
       "2942  The New York City Department of Housing Preser...   \n",
       "2943  The New York City Department of Housing Preser...   \n",
       "2944  The New York City Department of Housing Preser...   \n",
       "2945  Overseen by the Office Manager, the Administra...   \n",
       "\n",
       "                              Minimum Qual Requirements  \\\n",
       "0     \"1.\\tA baccalaureate degree from an accredited...   \n",
       "1     \"1. A baccalaureate degree from an accredited ...   \n",
       "2     \"1. Three years of full-time satisfactory expe...   \n",
       "3     \"1. Three years of full-time satisfactory expe...   \n",
       "4     1. Five years of full-time satisfactory experi...   \n",
       "...                                                 ...   \n",
       "2941  \"1. A four-year high school diploma or its edu...   \n",
       "2942  \"1. A four-year high school diploma or its edu...   \n",
       "2943  \"1. A baccalaureate degree from an accredited ...   \n",
       "2944  \"1. A baccalaureate degree from an accredited ...   \n",
       "2945  Qualification Requirements  A four-year high s...   \n",
       "\n",
       "                                       Preferred Skills  \\\n",
       "0      all candidates must have at least one year of...   \n",
       "1                                                  None   \n",
       "2                                            mechanical   \n",
       "3                                            mechanical   \n",
       "4                                                  None   \n",
       "...                                                 ...   \n",
       "2941   candidates must have one additional year of s...   \n",
       "2942   candidates must have one additional year of s...   \n",
       "2943   all candidates must have at least one year of...   \n",
       "2944   all candidates must have at least one year of...   \n",
       "2945                                      ERROR: #NAME?   \n",
       "\n",
       "                                 Additional Information  \\\n",
       "0     â€¢\\tExcellent interpersonal and organizationa...   \n",
       "1                                                  None   \n",
       "2      or construction trades in a trade school or v...   \n",
       "3      or construction trades in a trade school or v...   \n",
       "4     SPECIAL NOTE:    1.  This is a temporary assig...   \n",
       "...                                                 ...   \n",
       "2941   in addition to meeting the Qualification Requ...   \n",
       "2942   in addition to meeting the Qualification Requ...   \n",
       "2943  Strong preference for candidates who possess: ...   \n",
       "2944  Strong preference for candidates who possess: ...   \n",
       "2945  ONLY PERMANENT CLERICAL ASSOCIAT WILL BE CONSI...   \n",
       "\n",
       "                                               To Apply  \\\n",
       "0     Salary range for this position is: $42,405 - $...   \n",
       "1     In addition to applying through this website, ...   \n",
       "2      may be substituted for six months of the expe...   \n",
       "3      may be substituted for six months of the expe...   \n",
       "4                     \"Click the \"\"Apply Now\"\" button.\"   \n",
       "...                                                 ...   \n",
       "2941   candidates must have two additional years of ...   \n",
       "2942   candidates must have two additional years of ...   \n",
       "2943                                               None   \n",
       "2944                                               None   \n",
       "2945  For Current City Employees: Visit www.nyc.gov/...   \n",
       "\n",
       "                                            Hours/Shift  \\\n",
       "0                                                  None   \n",
       "1                                                  None   \n",
       "2      all candidates must have a minimum of two yea...   \n",
       "3      all candidates must have a minimum of two yea...   \n",
       "4                                                  None   \n",
       "...                                                 ...   \n",
       "2941           license suspension or an accident record   \n",
       "2942           license suspension or an accident record   \n",
       "2943                                      Apply Online.   \n",
       "2944                                      Apply Online.   \n",
       "2945                                               None   \n",
       "\n",
       "                                  Residency Requirement  \\\n",
       "0                                                  None   \n",
       "1     New York City residency is generally required ...   \n",
       "2                     \"Click the \"\"Apply Now\"\" button.\"   \n",
       "3                     \"Click the \"\"Apply Now\"\" button.\"   \n",
       "4                   NYCHA has no residency requirement.   \n",
       "...                                                 ...   \n",
       "2941                                               None   \n",
       "2942                                               None   \n",
       "2943                                               None   \n",
       "2944                                               None   \n",
       "2945  New York City residency is generally required ...   \n",
       "\n",
       "                                           Posting Date  \n",
       "0     New York City residency is generally required ...  \n",
       "1                               2012-01-26T00:00:00.000  \n",
       "2                                                  None  \n",
       "3                                                  None  \n",
       "4                               2014-01-09T00:00:00.000  \n",
       "...                                                 ...  \n",
       "2941                                      Apply Online.  \n",
       "2942                                      Apply Online.  \n",
       "2943  New York City residency is generally required ...  \n",
       "2944  New York City residency is generally required ...  \n",
       "2945                            2019-12-16T00:00:00.000  \n",
       "\n",
       "[2946 rows x 23 columns]"
      ]
     },
     "execution_count": 71,
     "metadata": {},
     "output_type": "execute_result"
    }
   ],
   "source": [
    "\n",
    "# Count number of null values in each column\n",
    "null_values = df.select([count(when(col(c).isNull(), c)).alias(c) for c in df.columns]).show()  \n",
    "#df.select([count(when(isnan(c) | col(c).isNull(), c)).alias(c) for c in df.columns]).show()\n",
    "\n",
    "# Based on the EDA, create a list of features to remove.\n",
    "# This can include features with high numbers of missing values,\n",
    "# Drop the features\n",
    "features_removal_df = df.drop(\"Posting Updated\", \"Post Until\", \"Process Date\", \"Work Location 1\", \"Recruitment Contact\")\n",
    "\n",
    "# Show the resulting DataFrame\n",
    "features_removal_df.toPandas()"
   ]
  },
  {
   "cell_type": "markdown",
   "metadata": {},
   "source": [
    "### Store your processed data into a target file"
   ]
  },
  {
   "cell_type": "code",
   "execution_count": null,
   "metadata": {},
   "outputs": [],
   "source": [
    "target_file = \"/dataset/nyc-jobs_output.csv\"\n",
    "\n",
    "# Write the output to a CSV file\n",
    "df.write.csv(target_file, header=True, mode=\"overwrite\")"
   ]
  }
 ],
 "metadata": {
  "kernelspec": {
   "display_name": "Python 3",
   "language": "python",
   "name": "python3"
  },
  "language_info": {
   "codemirror_mode": {
    "name": "ipython",
    "version": 3
   },
   "file_extension": ".py",
   "mimetype": "text/x-python",
   "name": "python",
   "nbconvert_exporter": "python",
   "pygments_lexer": "ipython3",
   "version": "3.7.3"
  }
 },
 "nbformat": 4,
 "nbformat_minor": 4
}
